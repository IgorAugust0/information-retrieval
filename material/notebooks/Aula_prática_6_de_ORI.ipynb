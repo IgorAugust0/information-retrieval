{
  "nbformat": 4,
  "nbformat_minor": 0,
  "metadata": {
    "colab": {
      "provenance": []
    },
    "kernelspec": {
      "name": "python3",
      "display_name": "Python 3"
    },
    "language_info": {
      "name": "python"
    }
  },
  "cells": [
    {
      "cell_type": "markdown",
      "source": [
        "# Mais sobre Listas\n"
      ],
      "metadata": {
        "id": "g51ynyG2YT9I"
      }
    },
    {
      "cell_type": "markdown",
      "source": [
        "# Compressão de listas\n",
        "\n",
        "Python possui recursos de Programação Funcional"
      ],
      "metadata": {
        "id": "HtuC7ytEYZtb"
      }
    },
    {
      "cell_type": "code",
      "execution_count": null,
      "metadata": {
        "colab": {
          "base_uri": "https://localhost:8080/"
        },
        "id": "LIXaUw5MXrLs",
        "outputId": "da93e2a7-8243-4f8a-9886-cdcc9befb8e4"
      },
      "outputs": [
        {
          "output_type": "execute_result",
          "data": {
            "text/plain": [
              "[1, 2, 3, 4, 5, 6, 7]"
            ]
          },
          "metadata": {},
          "execution_count": 1
        }
      ],
      "source": [
        "numeros = [1, 2, 3, 4, 5, 6, 7]\n",
        "numeros"
      ]
    },
    {
      "cell_type": "code",
      "source": [
        "numeros2 = list( range(1, 8) )\n",
        "numeros2"
      ],
      "metadata": {
        "colab": {
          "base_uri": "https://localhost:8080/"
        },
        "id": "xHww3rXtZHWt",
        "outputId": "50a9ee46-dec3-45a5-83a6-68833f8735d7"
      },
      "execution_count": null,
      "outputs": [
        {
          "output_type": "execute_result",
          "data": {
            "text/plain": [
              "[1, 2, 3, 4, 5, 6, 7]"
            ]
          },
          "metadata": {},
          "execution_count": 2
        }
      ]
    },
    {
      "cell_type": "code",
      "source": [
        "#quero uma lista com os quadrados dos numeros\n",
        "quadrados = []\n",
        "for num in numeros:\n",
        "  quadrados.append( num**2 )\n",
        "quadrados"
      ],
      "metadata": {
        "colab": {
          "base_uri": "https://localhost:8080/"
        },
        "id": "IxqguLtsZPGR",
        "outputId": "bd792b81-3941-42a2-f0fc-9e7e9f37d2a8"
      },
      "execution_count": null,
      "outputs": [
        {
          "output_type": "execute_result",
          "data": {
            "text/plain": [
              "[1, 4, 9, 16, 25, 36, 49]"
            ]
          },
          "metadata": {},
          "execution_count": 3
        }
      ]
    },
    {
      "cell_type": "code",
      "source": [
        "#podemos gerar essa mesma lista usando compressão\n",
        "quadrados = [ n**2 for n in numeros ]\n",
        "quadrados"
      ],
      "metadata": {
        "colab": {
          "base_uri": "https://localhost:8080/"
        },
        "id": "UTem_BFFZoAm",
        "outputId": "d4da42c4-d212-483f-d663-3d53245073c7"
      },
      "execution_count": null,
      "outputs": [
        {
          "output_type": "execute_result",
          "data": {
            "text/plain": [
              "[1, 4, 9, 16, 25, 36, 49]"
            ]
          },
          "metadata": {},
          "execution_count": 5
        }
      ]
    },
    {
      "cell_type": "code",
      "source": [
        "from math import sqrt     # importa a função sqrt do modulo math\n",
        "raizes = [ sqrt(k) for k in numeros ]\n",
        "raizes"
      ],
      "metadata": {
        "colab": {
          "base_uri": "https://localhost:8080/"
        },
        "id": "5kAGmrIfakRH",
        "outputId": "86a27ea6-9d75-48cc-a680-e2e31fc1ffeb"
      },
      "execution_count": null,
      "outputs": [
        {
          "output_type": "execute_result",
          "data": {
            "text/plain": [
              "[1.0,\n",
              " 1.4142135623730951,\n",
              " 1.7320508075688772,\n",
              " 2.0,\n",
              " 2.23606797749979,\n",
              " 2.449489742783178,\n",
              " 2.6457513110645907]"
            ]
          },
          "metadata": {},
          "execution_count": 6
        }
      ]
    },
    {
      "cell_type": "code",
      "source": [
        "# queremos o dobro dos numeros ímpares da lista numeros\n",
        "dobro = [ 2*v for v in numeros if v%2 == 1 ]\n",
        "dobro"
      ],
      "metadata": {
        "colab": {
          "base_uri": "https://localhost:8080/"
        },
        "id": "gkp4BMpUbLmc",
        "outputId": "cced2285-3cd6-48d0-a6be-f25cf9078d52"
      },
      "execution_count": null,
      "outputs": [
        {
          "output_type": "execute_result",
          "data": {
            "text/plain": [
              "[2, 6, 10, 14]"
            ]
          },
          "metadata": {},
          "execution_count": 9
        }
      ]
    },
    {
      "cell_type": "markdown",
      "source": [
        "## Exemplo: programa que lê um conjunto de numeros e calcula média, mediana"
      ],
      "metadata": {
        "id": "vijiBjyAcoJT"
      }
    },
    {
      "cell_type": "code",
      "source": [
        "amostra = [2, 9, 4, -1, 0, 15, 6]\n",
        "amostra"
      ],
      "metadata": {
        "colab": {
          "base_uri": "https://localhost:8080/"
        },
        "id": "d_zQ-s4odc5Z",
        "outputId": "f61ddc68-f6fb-4330-8d47-56dc1b20e8c8"
      },
      "execution_count": null,
      "outputs": [
        {
          "output_type": "execute_result",
          "data": {
            "text/plain": [
              "[2, 9, 4, -1, 0, 15, 6]"
            ]
          },
          "metadata": {},
          "execution_count": 13
        }
      ]
    },
    {
      "cell_type": "code",
      "source": [
        "amostra.sort()\n",
        "amostra"
      ],
      "metadata": {
        "colab": {
          "base_uri": "https://localhost:8080/"
        },
        "id": "OgjJ8WbFgue3",
        "outputId": "9c97d30d-afc6-46b0-b1bd-8d3c0d99ee1d"
      },
      "execution_count": null,
      "outputs": [
        {
          "output_type": "execute_result",
          "data": {
            "text/plain": [
              "[-1, 0, 2, 4, 6, 9, 15]"
            ]
          },
          "metadata": {},
          "execution_count": 14
        }
      ]
    },
    {
      "cell_type": "code",
      "source": [
        "3/2"
      ],
      "metadata": {
        "colab": {
          "base_uri": "https://localhost:8080/"
        },
        "id": "yYmxDf3VhnpP",
        "outputId": "1d37e42e-739a-4bcc-b515-fc1b3bec91e3"
      },
      "execution_count": null,
      "outputs": [
        {
          "output_type": "execute_result",
          "data": {
            "text/plain": [
              "1.5"
            ]
          },
          "metadata": {},
          "execution_count": 15
        }
      ]
    },
    {
      "cell_type": "code",
      "source": [
        "#programa que lê um conjunto de numeros e calcula média, mediana\n",
        "\n",
        "\"\"\"\n",
        "def leTermos(qtd):\n",
        "    termos = [0]*qtd\n",
        "    for i in range(0, qtd):\n",
        "        termos[i] = float( input(\"Entre com o termo %s: \"%(i+1) ) )\n",
        "    return termos\n",
        "\"\"\"\n",
        "\n",
        "def leTermos(qtd):\n",
        "    return [ float( input(\"Entre com o termo %s: \"%(i+1) ) ) for i in range(0, qtd) ]\n",
        "\n",
        "def calculaMedia(numeros):\n",
        "    return sum(numeros)/len(numeros)\n",
        "\n",
        "def calculaMediana(amostraOriginal):\n",
        "    amostra = list(amostraOriginal)  #gera uma cópia (rasa) da lista\n",
        "    amostra.sort()\n",
        "    if len(amostra) % 2 == 1:\n",
        "        mediana = amostra[ len(amostra)//2 ]\n",
        "    else:\n",
        "        centro = len(amostra)//2\n",
        "        mediana = (amostra[centro] + amostra[centro-1])/2.0\n",
        "    return mediana\n",
        "\n",
        "\n",
        "n = int( input(\"Entre com a quantidade de termos: \") )\n",
        "\n",
        "termos = leTermos(n)\n",
        "media = calculaMedia(termos)\n",
        "mediana = calculaMediana(termos)\n",
        "\n",
        "print( \"Media dos termos: \", media)\n",
        "print( \"Mediana dos termos: \", mediana)\n"
      ],
      "metadata": {
        "colab": {
          "base_uri": "https://localhost:8080/"
        },
        "id": "BKCgsbsOhpz8",
        "outputId": "78c52b46-343a-44c2-8d4f-0f1a966710c7"
      },
      "execution_count": null,
      "outputs": [
        {
          "output_type": "execute_result",
          "data": {
            "text/plain": [
              "1"
            ]
          },
          "metadata": {},
          "execution_count": 16
        }
      ]
    },
    {
      "cell_type": "code",
      "source": [
        "# programa que calcula desvio padrão de uma amostra de numeros\n",
        "\n",
        "\n",
        "#quando importamos um arquivo, pyhton executa todas as suas linhas de código!\n",
        "#vamos importar o arquivo gerado na celula anterior, o qual chamei de media.py\n",
        "import media\n",
        "\n",
        "def calculaVarianca(amostra):\n",
        "    mediaAmostra = media.calculaMedia(amostra)\n",
        "    soma = 0\n",
        "    i = 0\n",
        "    while i < len(amostra):\n",
        "        soma += (amostra[i] - mediaAmostra)**2\n",
        "        i += 1\n",
        "    return soma/len(amostra)\n",
        "\n",
        "def calculaDesvioPadrao(amostra):\n",
        "    varianca = calculaVarianca(amostra)\n",
        "    return varianca**0.5\n",
        "\n",
        "\n",
        "ntermos = int( input(\"Entre com a quantidade de termos: \") )\n",
        "termos = media.leTermos(ntermos)\n",
        "\n",
        "desviop = calculaDesvioPadrao(termos)\n",
        "print(\"Desvio padrao: \", desviop)\n",
        "\n",
        "print(\"Tenha um bom dia!\")\n"
      ],
      "metadata": {
        "id": "r06QPni8jJ_n"
      },
      "execution_count": null,
      "outputs": []
    }
  ]
}