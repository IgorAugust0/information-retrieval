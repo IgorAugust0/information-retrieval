{
  "nbformat": 4,
  "nbformat_minor": 0,
  "metadata": {
    "colab": {
      "provenance": []
    },
    "kernelspec": {
      "name": "python3",
      "display_name": "Python 3"
    },
    "language_info": {
      "name": "python"
    }
  },
  "cells": [
    {
      "cell_type": "markdown",
      "source": [
        "\n",
        "# Aula prática 7 de ORI 2023-1 - Conjuntos e Dicionários - 12/09/2023\n",
        "\n",
        "https://wendelmelo.net/iup/#conjuntos-e-dicionários-capdicionarios-capconjuntos"
      ],
      "metadata": {
        "id": "sLcRBBhoUzoV"
      }
    },
    {
      "cell_type": "markdown",
      "source": [
        "# Conjuntos\n",
        "\n",
        "Objetos mutáveis que implementam o conceito matemático de conjuntos. Conjuntos têm as seguintes características:\n",
        "\n",
        "1. São implementados usando tabelas hash\n",
        "2. Apenas objetos imutáveis, em princípio, podem ser membros de conjunto\n",
        "3. Não existe uma ordem para os elementos de um conjunto\n",
        "4. Não pode haver repetição de elementos em um conjunto"
      ],
      "metadata": {
        "id": "q6TP74UjWOva"
      }
    },
    {
      "cell_type": "code",
      "execution_count": null,
      "metadata": {
        "id": "cQOVbMoeRiwQ",
        "colab": {
          "base_uri": "https://localhost:8080/"
        },
        "outputId": "374e53e5-7613-4833-f3b3-0bd079d40f6d"
      },
      "outputs": [
        {
          "output_type": "execute_result",
          "data": {
            "text/plain": [
              "{1, 7, False, 'Jessica'}"
            ]
          },
          "metadata": {},
          "execution_count": 3
        }
      ],
      "source": [
        "#Declaramos conjuntos em Python { }\n",
        "C = {1, 7, \"Jessica\", False }\n",
        "C"
      ]
    },
    {
      "cell_type": "code",
      "source": [
        "type(C)"
      ],
      "metadata": {
        "colab": {
          "base_uri": "https://localhost:8080/"
        },
        "id": "xGk0IE3HfbJn",
        "outputId": "e9af0a60-a0a6-4798-bb46-59a9bf8d9cc6"
      },
      "execution_count": null,
      "outputs": [
        {
          "output_type": "execute_result",
          "data": {
            "text/plain": [
              "set"
            ]
          },
          "metadata": {},
          "execution_count": 4
        }
      ]
    },
    {
      "cell_type": "code",
      "source": [
        "#não podemos ter listas em conjuntos\n",
        "C2 = { [1,2,3] }"
      ],
      "metadata": {
        "colab": {
          "base_uri": "https://localhost:8080/",
          "height": 199
        },
        "id": "0kfxxeRPfsAy",
        "outputId": "c2ff10b6-8b6c-4c4b-99ce-6d1ba96e3f3b"
      },
      "execution_count": null,
      "outputs": [
        {
          "output_type": "error",
          "ename": "TypeError",
          "evalue": "ignored",
          "traceback": [
            "\u001b[0;31m---------------------------------------------------------------------------\u001b[0m",
            "\u001b[0;31mTypeError\u001b[0m                                 Traceback (most recent call last)",
            "\u001b[0;32m<ipython-input-5-6db9fc4ad639>\u001b[0m in \u001b[0;36m<cell line: 2>\u001b[0;34m()\u001b[0m\n\u001b[1;32m      1\u001b[0m \u001b[0;31m#não podemos ter listas em conjuntos\u001b[0m\u001b[0;34m\u001b[0m\u001b[0;34m\u001b[0m\u001b[0m\n\u001b[0;32m----> 2\u001b[0;31m \u001b[0mC2\u001b[0m \u001b[0;34m=\u001b[0m \u001b[0;34m{\u001b[0m \u001b[0;34m[\u001b[0m\u001b[0;36m1\u001b[0m\u001b[0;34m,\u001b[0m\u001b[0;36m2\u001b[0m\u001b[0;34m,\u001b[0m\u001b[0;36m3\u001b[0m\u001b[0;34m]\u001b[0m \u001b[0;34m}\u001b[0m\u001b[0;34m\u001b[0m\u001b[0;34m\u001b[0m\u001b[0m\n\u001b[0m",
            "\u001b[0;31mTypeError\u001b[0m: unhashable type: 'list'"
          ]
        }
      ]
    },
    {
      "cell_type": "code",
      "source": [
        "#podemos ter tuplas em conjuntos, pois tuplas funcionam como listas imutáveis\n",
        "C2 = { (1,2,3) }\n",
        "C2"
      ],
      "metadata": {
        "colab": {
          "base_uri": "https://localhost:8080/"
        },
        "id": "A0fdxcd5f9Bl",
        "outputId": "205a9c24-0aa1-496e-f8ac-f478ed80fbad"
      },
      "execution_count": null,
      "outputs": [
        {
          "output_type": "execute_result",
          "data": {
            "text/plain": [
              "{(1, 2, 3)}"
            ]
          },
          "metadata": {},
          "execution_count": 6
        }
      ]
    },
    {
      "cell_type": "code",
      "source": [
        "C3 = { 3.14, -1, 3 + 4j, 'ana', 'karen', 'lucas', (10, 20)  }\n",
        "C3"
      ],
      "metadata": {
        "colab": {
          "base_uri": "https://localhost:8080/"
        },
        "id": "IGCcdxclgWpo",
        "outputId": "b334f12d-9bd4-4056-d2ee-d06c5488586c"
      },
      "execution_count": null,
      "outputs": [
        {
          "output_type": "execute_result",
          "data": {
            "text/plain": [
              "{(10, 20), (3+4j), -1, 3.14, 'ana', 'karen', 'lucas'}"
            ]
          },
          "metadata": {},
          "execution_count": 7
        }
      ]
    },
    {
      "cell_type": "code",
      "source": [
        "len(C3)"
      ],
      "metadata": {
        "colab": {
          "base_uri": "https://localhost:8080/"
        },
        "id": "q2rgI45Ng0pp",
        "outputId": "872807ce-2d1b-43ab-d6bf-934974427e95"
      },
      "execution_count": null,
      "outputs": [
        {
          "output_type": "execute_result",
          "data": {
            "text/plain": [
              "7"
            ]
          },
          "metadata": {},
          "execution_count": 9
        }
      ]
    },
    {
      "cell_type": "code",
      "source": [
        "#set é o construtor da classe conjuntos\n",
        "primos = set( [2,3,5,7,11,13] )\n",
        "primos"
      ],
      "metadata": {
        "colab": {
          "base_uri": "https://localhost:8080/"
        },
        "id": "uqrP3ekNhiGz",
        "outputId": "fec872fc-8415-4a0e-8daf-f8294652ddb6"
      },
      "execution_count": null,
      "outputs": [
        {
          "output_type": "execute_result",
          "data": {
            "text/plain": [
              "{2, 3, 5, 7, 11, 13}"
            ]
          },
          "metadata": {},
          "execution_count": 10
        }
      ]
    },
    {
      "cell_type": "code",
      "source": [
        "#percorrendo um conjunto com for\n",
        "conjunto = { 'zelda', 'andre', 'magda', 'emerson', 'mara' }\n",
        "for item in conjunto:\n",
        "  print(item)"
      ],
      "metadata": {
        "colab": {
          "base_uri": "https://localhost:8080/"
        },
        "id": "AYMvgozhhxGF",
        "outputId": "acce31e5-2827-447c-e035-bb5536de266e"
      },
      "execution_count": null,
      "outputs": [
        {
          "output_type": "stream",
          "name": "stdout",
          "text": [
            "mara\n",
            "andre\n",
            "magda\n",
            "zelda\n",
            "emerson\n"
          ]
        }
      ]
    },
    {
      "cell_type": "code",
      "source": [
        "conjunto[0]  # nos conjuntos não há a ideia do índice!"
      ],
      "metadata": {
        "colab": {
          "base_uri": "https://localhost:8080/",
          "height": 181
        },
        "id": "6PbiE7NNj3h3",
        "outputId": "1ea05950-8cf5-4a9f-9a38-2f8b0b63fe82"
      },
      "execution_count": null,
      "outputs": [
        {
          "output_type": "error",
          "ename": "TypeError",
          "evalue": "ignored",
          "traceback": [
            "\u001b[0;31m---------------------------------------------------------------------------\u001b[0m",
            "\u001b[0;31mTypeError\u001b[0m                                 Traceback (most recent call last)",
            "\u001b[0;32m<ipython-input-19-fba2949cd4b0>\u001b[0m in \u001b[0;36m<cell line: 1>\u001b[0;34m()\u001b[0m\n\u001b[0;32m----> 1\u001b[0;31m \u001b[0mconjunto\u001b[0m\u001b[0;34m[\u001b[0m\u001b[0;36m0\u001b[0m\u001b[0;34m]\u001b[0m\u001b[0;34m\u001b[0m\u001b[0;34m\u001b[0m\u001b[0m\n\u001b[0m",
            "\u001b[0;31mTypeError\u001b[0m: 'set' object is not subscriptable"
          ]
        }
      ]
    },
    {
      "cell_type": "code",
      "source": [
        "#podemos encarar o nosso conjunto como sendo uma estrutura matricial (conteiner de strings)\n",
        "for item in conjunto:\n",
        "  for c in item:\n",
        "    print(\"%s: %s\"%(item, c) )"
      ],
      "metadata": {
        "colab": {
          "base_uri": "https://localhost:8080/"
        },
        "id": "ZJfiZZioiMsj",
        "outputId": "4e7f516a-baf7-4e83-c85b-5b437cbcc4c4"
      },
      "execution_count": null,
      "outputs": [
        {
          "output_type": "stream",
          "name": "stdout",
          "text": [
            "mara: m\n",
            "mara: a\n",
            "mara: r\n",
            "mara: a\n",
            "andre: a\n",
            "andre: n\n",
            "andre: d\n",
            "andre: r\n",
            "andre: e\n",
            "magda: m\n",
            "magda: a\n",
            "magda: g\n",
            "magda: d\n",
            "magda: a\n",
            "zelda: z\n",
            "zelda: e\n",
            "zelda: l\n",
            "zelda: d\n",
            "zelda: a\n",
            "emerson: e\n",
            "emerson: m\n",
            "emerson: e\n",
            "emerson: r\n",
            "emerson: s\n",
            "emerson: o\n",
            "emerson: n\n"
          ]
        }
      ]
    },
    {
      "cell_type": "markdown",
      "source": [
        "# Métodos\n",
        "\n",
        "Dado um conjunto C:\n",
        "\n",
        "* C.add( X )  : adiciona X no conjunto C\n",
        "* C.clear( ) : remove todos os elementos do conjunto C\n",
        "* C.difference( C2 ) : retorna o conjunto diferença entre C e C2: C - C2\n",
        "* C.intersection( C2 ) : retorna o conjunto interseção entre C e C2\n",
        "* C.remove( X ) : remove X do conjunto C\n",
        "* C.union( C2 ) : retorna o conjunto união entre C e C2\n",
        "* C.pop() :  remove um elemento do conjunto e retorna\n"
      ],
      "metadata": {
        "id": "ivba3Qy9hJeX"
      }
    },
    {
      "cell_type": "code",
      "source": [
        "conjunto.pop()"
      ],
      "metadata": {
        "colab": {
          "base_uri": "https://localhost:8080/",
          "height": 35
        },
        "id": "T4P03MG0lpgA",
        "outputId": "36a07ad7-c27c-46a6-86e9-952acd450b24"
      },
      "execution_count": null,
      "outputs": [
        {
          "output_type": "execute_result",
          "data": {
            "text/plain": [
              "'mara'"
            ],
            "application/vnd.google.colaboratory.intrinsic+json": {
              "type": "string"
            }
          },
          "metadata": {},
          "execution_count": 20
        }
      ]
    },
    {
      "cell_type": "code",
      "source": [
        "# Exemplo, programa que sorteia dezenas para megasena\n",
        "\n",
        "import random\n",
        "import time\n",
        "\n",
        "semente = time.time()\n",
        "random.seed( semente )  #seta a semente de geração de aleatórios\n",
        "print(\"Semente: \", semente)\n",
        "\n",
        "ndezenas = int( input(\"Entre com o numero de dezenas: \") )\n",
        "dezenas = set() # gera um conjunto vazio\n",
        "while len(dezenas) < ndezenas:\n",
        "  dezenas.add( random.randint(1, 60) ) # gera um aleatório float entre 0 e 1\n",
        "\n",
        "dezenas = list( dezenas ) #convertendo o conjunto para lista para usar o método sort\n",
        "dezenas.sort()\n",
        "print(\"Dezenas: \", dezenas)"
      ],
      "metadata": {
        "colab": {
          "base_uri": "https://localhost:8080/"
        },
        "id": "LVs6Mhqbl-iU",
        "outputId": "1cbf4dd4-f328-4d48-dadb-b71ca68f7502"
      },
      "execution_count": null,
      "outputs": [
        {
          "output_type": "stream",
          "name": "stdout",
          "text": [
            "Semente:  1694560817.1722088\n",
            "Entre com o numero de dezenas: 8\n",
            "Dezenas:  [15, 16, 23, 31, 34, 48, 54, 57]\n"
          ]
        }
      ]
    },
    {
      "cell_type": "markdown",
      "source": [
        "# Dicionários\n",
        "\n",
        "Objetos mutáveis que implementam mapeamentos entre objetos.\n",
        "Dicionários são sequências não ordenadas de objetos, onde cada objeto é associado à uma chave."
      ],
      "metadata": {
        "id": "gyPAaHgnsnBj"
      }
    },
    {
      "cell_type": "code",
      "source": [
        "d1 = { 'estado':'RJ', 'cidade':'Rio de Janeiro', 'bairro':'Meier' }\n",
        "d1"
      ],
      "metadata": {
        "colab": {
          "base_uri": "https://localhost:8080/"
        },
        "id": "wWXB1V_StFhH",
        "outputId": "d8f2c00b-b129-4033-ca1c-f512cbcbda32"
      },
      "execution_count": null,
      "outputs": [
        {
          "output_type": "execute_result",
          "data": {
            "text/plain": [
              "{'estado': 'RJ', 'cidade': 'Rio de Janeiro', 'bairro': 'Meier'}"
            ]
          },
          "metadata": {},
          "execution_count": 69
        }
      ]
    },
    {
      "cell_type": "markdown",
      "source": [
        "No dicionário acima, temos 3 elementos (ítens)\n",
        "\n",
        "Itens:\n",
        "\n",
        "* 'RJ'\n",
        "* 'Rio de Janeiro'\n",
        "* 'Meier'\n",
        "\n",
        "Cada ítem no dicionário precisa estar ligado a uma chave\n",
        "\n",
        "Chaves:\n",
        "\n",
        "* 'estado'\n",
        "* 'cidade'\n",
        "* 'bairro'"
      ],
      "metadata": {
        "id": "V_P4CAVHtpn0"
      }
    },
    {
      "cell_type": "code",
      "source": [
        "#no dicionário não existe a ideia da ordem\n",
        "d1[0]"
      ],
      "metadata": {
        "colab": {
          "base_uri": "https://localhost:8080/",
          "height": 199
        },
        "id": "vwzLDc2Ot_Db",
        "outputId": "8ba4abc4-d249-4243-a770-f6292cb9d17d"
      },
      "execution_count": null,
      "outputs": [
        {
          "output_type": "error",
          "ename": "KeyError",
          "evalue": "ignored",
          "traceback": [
            "\u001b[0;31m---------------------------------------------------------------------------\u001b[0m",
            "\u001b[0;31mKeyError\u001b[0m                                  Traceback (most recent call last)",
            "\u001b[0;32m<ipython-input-70-8523c86e47fb>\u001b[0m in \u001b[0;36m<cell line: 2>\u001b[0;34m()\u001b[0m\n\u001b[1;32m      1\u001b[0m \u001b[0;31m#no dicionário não existe a ideia da ordem\u001b[0m\u001b[0;34m\u001b[0m\u001b[0;34m\u001b[0m\u001b[0m\n\u001b[0;32m----> 2\u001b[0;31m \u001b[0md1\u001b[0m\u001b[0;34m[\u001b[0m\u001b[0;36m0\u001b[0m\u001b[0;34m]\u001b[0m\u001b[0;34m\u001b[0m\u001b[0;34m\u001b[0m\u001b[0m\n\u001b[0m",
            "\u001b[0;31mKeyError\u001b[0m: 0"
          ]
        }
      ]
    },
    {
      "cell_type": "code",
      "source": [
        "d1"
      ],
      "metadata": {
        "colab": {
          "base_uri": "https://localhost:8080/"
        },
        "id": "eoemCLc6uXm7",
        "outputId": "ae61f8a0-a93d-4a70-cbf1-9ee49022f7f3"
      },
      "execution_count": null,
      "outputs": [
        {
          "output_type": "execute_result",
          "data": {
            "text/plain": [
              "{'estado': 'RJ', 'cidade': 'Rio de Janeiro', 'bairro': 'Meier'}"
            ]
          },
          "metadata": {},
          "execution_count": 71
        }
      ]
    },
    {
      "cell_type": "code",
      "source": [
        "#podemos acessar os elementos no dicionário através de suas respectivas chaves\n",
        "d1['estado']   #acessa o elemento armazenado sobre a chave 'estado'"
      ],
      "metadata": {
        "colab": {
          "base_uri": "https://localhost:8080/",
          "height": 35
        },
        "id": "0EFrLPAMuNg9",
        "outputId": "f2607fec-5dc2-47e4-95ba-9874226a6ae4"
      },
      "execution_count": null,
      "outputs": [
        {
          "output_type": "execute_result",
          "data": {
            "text/plain": [
              "'RJ'"
            ],
            "application/vnd.google.colaboratory.intrinsic+json": {
              "type": "string"
            }
          },
          "metadata": {},
          "execution_count": 72
        }
      ]
    },
    {
      "cell_type": "code",
      "source": [
        "#com dicionários, não aessamos elementos por índices. Acessamos pelas chaves.\n",
        "#porém, nada nos impede de usar números como chaves:\n",
        "duni = { 1:'UFU', 2:'UFRJ', 5:'UMICH' }\n",
        "duni"
      ],
      "metadata": {
        "colab": {
          "base_uri": "https://localhost:8080/"
        },
        "id": "xIb1j7FHun4r",
        "outputId": "75de2606-f594-4109-a629-17a54c343709"
      },
      "execution_count": null,
      "outputs": [
        {
          "output_type": "execute_result",
          "data": {
            "text/plain": [
              "{1: 'UFU', 2: 'UFRJ', 5: 'UMICH'}"
            ]
          },
          "metadata": {},
          "execution_count": 73
        }
      ]
    },
    {
      "cell_type": "code",
      "source": [
        "duni[2]"
      ],
      "metadata": {
        "colab": {
          "base_uri": "https://localhost:8080/",
          "height": 35
        },
        "id": "UxKKVSKZu5QU",
        "outputId": "bee737ae-036b-4cfd-90a8-d3523f9832b4"
      },
      "execution_count": null,
      "outputs": [
        {
          "output_type": "execute_result",
          "data": {
            "text/plain": [
              "'UFRJ'"
            ],
            "application/vnd.google.colaboratory.intrinsic+json": {
              "type": "string"
            }
          },
          "metadata": {},
          "execution_count": 74
        }
      ]
    },
    {
      "cell_type": "code",
      "source": [
        "duni[0]  #erro, pois não há chave 0 no dicionário!"
      ],
      "metadata": {
        "colab": {
          "base_uri": "https://localhost:8080/",
          "height": 181
        },
        "id": "0Zmq8l2AvICf",
        "outputId": "477bbf7d-efed-4153-bec8-d52ff4acf50a"
      },
      "execution_count": null,
      "outputs": [
        {
          "output_type": "error",
          "ename": "KeyError",
          "evalue": "ignored",
          "traceback": [
            "\u001b[0;31m---------------------------------------------------------------------------\u001b[0m",
            "\u001b[0;31mKeyError\u001b[0m                                  Traceback (most recent call last)",
            "\u001b[0;32m<ipython-input-76-9d53e0bcb649>\u001b[0m in \u001b[0;36m<cell line: 1>\u001b[0;34m()\u001b[0m\n\u001b[0;32m----> 1\u001b[0;31m \u001b[0mduni\u001b[0m\u001b[0;34m[\u001b[0m\u001b[0;36m0\u001b[0m\u001b[0;34m]\u001b[0m\u001b[0;34m\u001b[0m\u001b[0;34m\u001b[0m\u001b[0m\n\u001b[0m",
            "\u001b[0;31mKeyError\u001b[0m: 0"
          ]
        }
      ]
    },
    {
      "cell_type": "markdown",
      "source": [
        "Qualquer objeto pode ser ítem de dicionário (incluindo dicionários).\n",
        "No entanto, apenas objetos imutáveis podem ser chave!"
      ],
      "metadata": {
        "id": "AwcOj0I0vcW5"
      }
    },
    {
      "cell_type": "code",
      "source": [
        "type(duni)"
      ],
      "metadata": {
        "colab": {
          "base_uri": "https://localhost:8080/"
        },
        "id": "CDULw3rgwAGz",
        "outputId": "4dd04f59-e1b4-409c-a27d-170b630fd7c2"
      },
      "execution_count": null,
      "outputs": [
        {
          "output_type": "execute_result",
          "data": {
            "text/plain": [
              "dict"
            ]
          },
          "metadata": {},
          "execution_count": 77
        }
      ]
    },
    {
      "cell_type": "code",
      "source": [
        "#o construtor da classe se chama dict\n",
        "chaves = [3.14, 2.71, 7]\n",
        "itens = [ {1,2,3},  'jessica', [10, 20, 30] ]\n",
        "d = dict( zip(chaves, itens) )\n",
        "d"
      ],
      "metadata": {
        "colab": {
          "base_uri": "https://localhost:8080/"
        },
        "id": "mxsqEHHrwHQf",
        "outputId": "ab5f06b7-fa04-4344-dc2c-01d64777b90e"
      },
      "execution_count": null,
      "outputs": [
        {
          "output_type": "execute_result",
          "data": {
            "text/plain": [
              "{3.14: {1, 2, 3}, 2.71: 'jessica', 7: [10, 20, 30]}"
            ]
          },
          "metadata": {},
          "execution_count": 80
        }
      ]
    },
    {
      "cell_type": "code",
      "source": [
        "duni"
      ],
      "metadata": {
        "colab": {
          "base_uri": "https://localhost:8080/"
        },
        "id": "NukFGVYCwz0W",
        "outputId": "f2695de8-dbff-4d23-c6c3-cf0b73f5624e"
      },
      "execution_count": null,
      "outputs": [
        {
          "output_type": "execute_result",
          "data": {
            "text/plain": [
              "{1: 'UFU', 2: 'UFRJ', 5: 'UMICH'}"
            ]
          },
          "metadata": {},
          "execution_count": 81
        }
      ]
    },
    {
      "cell_type": "code",
      "source": [
        "duni[9] = 'FIOCRUZ'\n",
        "duni"
      ],
      "metadata": {
        "colab": {
          "base_uri": "https://localhost:8080/"
        },
        "id": "PyAmNhQsw1qw",
        "outputId": "4346faf7-0d7e-44ef-e294-cb7f49cf54f8"
      },
      "execution_count": null,
      "outputs": [
        {
          "output_type": "execute_result",
          "data": {
            "text/plain": [
              "{1: 'UFU', 2: 'UFRJ', 5: 'UMICH', 9: 'FIOCRUZ'}"
            ]
          },
          "metadata": {},
          "execution_count": 82
        }
      ]
    },
    {
      "cell_type": "code",
      "source": [
        "duni[5] = 'UERJ'\n",
        "duni"
      ],
      "metadata": {
        "colab": {
          "base_uri": "https://localhost:8080/"
        },
        "id": "w3itnvQ7w6jp",
        "outputId": "62e24cb2-5d45-4fd1-dba3-a14cc7583946"
      },
      "execution_count": null,
      "outputs": [
        {
          "output_type": "execute_result",
          "data": {
            "text/plain": [
              "{1: 'UFU', 2: 'UFRJ', 5: 'UERJ', 9: 'FIOCRUZ'}"
            ]
          },
          "metadata": {},
          "execution_count": 83
        }
      ]
    }
  ]
}