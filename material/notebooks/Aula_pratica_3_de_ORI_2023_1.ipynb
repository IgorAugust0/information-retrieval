{
  "cells": [
    {
      "cell_type": "markdown",
      "metadata": {
        "id": "AocYufTg8FDz"
      },
      "source": [
        "# Aula prática 3 de Python (17/08/2023)\n",
        "\n",
        "# Strings\n",
        "\n",
        "Capítulo 5: https://wendelmelo.net/iup/#strings-capstrings\n",
        "\n",
        "Strings são cadeias de caracteres. Strings em Python tem algumas peculiaridades:\n",
        "\n",
        "\n",
        "1.   Em Python não há o tipo caractere isolado\n",
        "2.   Strings podem ser declaradas com aspas simples ou duplas (aspas triplas também funcionam).\n",
        "3.   Strings em python não terminam com o caractere \\0\n",
        "4.   Strings são objetos imutáveis em Python.\n",
        "\n"
      ]
    },
    {
      "cell_type": "code",
      "execution_count": null,
      "metadata": {
        "colab": {
          "base_uri": "https://localhost:8080/"
        },
        "id": "5anSXAO56A7Z",
        "outputId": "3c8463c7-7c9f-41dd-ba3b-58f87abc155d"
      },
      "outputs": [
        {
          "name": "stdout",
          "output_type": "stream",
          "text": [
            "Isso é uma string!\n"
          ]
        }
      ],
      "source": [
        "frase = 'Isso é uma string!'\n",
        "print(frase)"
      ]
    },
    {
      "cell_type": "code",
      "execution_count": null,
      "metadata": {
        "colab": {
          "base_uri": "https://localhost:8080/"
        },
        "id": "FZ2Fs2d_9Wdo",
        "outputId": "4083822d-95b8-4de0-d448-e8ba1f90a7d5"
      },
      "outputs": [
        {
          "data": {
            "text/plain": [
              "str"
            ]
          },
          "execution_count": 2,
          "metadata": {},
          "output_type": "execute_result"
        }
      ],
      "source": [
        "type(frase)   # o construtor type retorna um objeto com o tipo do objeto passado no argumento"
      ]
    },
    {
      "cell_type": "code",
      "execution_count": null,
      "metadata": {
        "colab": {
          "base_uri": "https://localhost:8080/"
        },
        "id": "wGeERu6r9hP6",
        "outputId": "4b865725-e535-48f6-f6ba-4679c9e8406f"
      },
      "outputs": [
        {
          "data": {
            "text/plain": [
              "False"
            ]
          },
          "execution_count": 3,
          "metadata": {},
          "output_type": "execute_result"
        }
      ],
      "source": [
        "type(frase) == int"
      ]
    },
    {
      "cell_type": "code",
      "execution_count": null,
      "metadata": {
        "colab": {
          "base_uri": "https://localhost:8080/"
        },
        "id": "o9SkJ5XN9ll2",
        "outputId": "23345158-dc20-4ee0-b9c4-5d5e93c061a3"
      },
      "outputs": [
        {
          "data": {
            "text/plain": [
              "True"
            ]
          },
          "execution_count": 4,
          "metadata": {},
          "output_type": "execute_result"
        }
      ],
      "source": [
        "type(frase) == str"
      ]
    },
    {
      "cell_type": "markdown",
      "metadata": {
        "id": "fmtrIF299010"
      },
      "source": [
        "#Operações com strings\n",
        "\n",
        "\n",
        "\n",
        "*   Concatenação: +\n",
        "\n"
      ]
    },
    {
      "cell_type": "code",
      "execution_count": null,
      "metadata": {
        "colab": {
          "base_uri": "https://localhost:8080/",
          "height": 35
        },
        "id": "HXWtueBV-E7A",
        "outputId": "f738de8b-4e47-40da-dbe8-cf556e11408d"
      },
      "outputs": [
        {
          "data": {
            "application/vnd.google.colaboratory.intrinsic+json": {
              "type": "string"
            },
            "text/plain": [
              "'jessicagomes'"
            ]
          },
          "execution_count": 5,
          "metadata": {},
          "output_type": "execute_result"
        }
      ],
      "source": [
        "'jessica' + 'gomes'"
      ]
    },
    {
      "cell_type": "code",
      "execution_count": null,
      "metadata": {
        "colab": {
          "base_uri": "https://localhost:8080/",
          "height": 35
        },
        "id": "33ywpBnB-Q95",
        "outputId": "923482f1-4d77-4bec-cdb6-c26e5bfc0f44"
      },
      "outputs": [
        {
          "data": {
            "application/vnd.google.colaboratory.intrinsic+json": {
              "type": "string"
            },
            "text/plain": [
              "'Isso é uma string!Escrito por Wendel!'"
            ]
          },
          "execution_count": 6,
          "metadata": {},
          "output_type": "execute_result"
        }
      ],
      "source": [
        "frase2 = frase + \"Escrito por Wendel!\"\n",
        "frase2"
      ]
    },
    {
      "cell_type": "code",
      "execution_count": null,
      "metadata": {
        "colab": {
          "base_uri": "https://localhost:8080/",
          "height": 35
        },
        "id": "kChtDDss-eel",
        "outputId": "ca91a071-02a5-4c09-8823-8f133fa40314"
      },
      "outputs": [
        {
          "data": {
            "application/vnd.google.colaboratory.intrinsic+json": {
              "type": "string"
            },
            "text/plain": [
              "'Isso é uma string!'"
            ]
          },
          "execution_count": 7,
          "metadata": {},
          "output_type": "execute_result"
        }
      ],
      "source": [
        "frase"
      ]
    },
    {
      "cell_type": "markdown",
      "metadata": {
        "id": "scGpZBd_-pzj"
      },
      "source": [
        "* Repetição: *"
      ]
    },
    {
      "cell_type": "code",
      "execution_count": null,
      "metadata": {
        "colab": {
          "base_uri": "https://localhost:8080/",
          "height": 35
        },
        "id": "YQP5zB2l-xol",
        "outputId": "fa6d747d-71ef-4a09-a773-8ca2f5bceed6"
      },
      "outputs": [
        {
          "data": {
            "application/vnd.google.colaboratory.intrinsic+json": {
              "type": "string"
            },
            "text/plain": [
              "'aiaiai'"
            ]
          },
          "execution_count": 9,
          "metadata": {},
          "output_type": "execute_result"
        }
      ],
      "source": [
        "c = 'ai'*3\n",
        "c"
      ]
    },
    {
      "cell_type": "markdown",
      "metadata": {
        "id": "dc50eGj1_S3k"
      },
      "source": [
        "* Comparações:\n",
        "* * igualdade: ==\n",
        "* * diferença: !=\n",
        "* * desigualdade: <, <=, >, >="
      ]
    },
    {
      "cell_type": "code",
      "execution_count": null,
      "metadata": {
        "colab": {
          "base_uri": "https://localhost:8080/"
        },
        "id": "_-tfdeY3_SGU",
        "outputId": "185d33da-c24a-4858-92dd-61c55a9d8c20"
      },
      "outputs": [
        {
          "data": {
            "text/plain": [
              "False"
            ]
          },
          "execution_count": 11,
          "metadata": {},
          "output_type": "execute_result"
        }
      ],
      "source": [
        "nome = \"jessica\"\n",
        "nome == \"wendel\""
      ]
    },
    {
      "cell_type": "code",
      "execution_count": null,
      "metadata": {
        "colab": {
          "base_uri": "https://localhost:8080/"
        },
        "id": "qQK6j4YT_o_Y",
        "outputId": "cbc007a7-a3ed-4d88-a63c-90d41ee10c6f"
      },
      "outputs": [
        {
          "data": {
            "text/plain": [
              "True"
            ]
          },
          "execution_count": 12,
          "metadata": {},
          "output_type": "execute_result"
        }
      ],
      "source": [
        "nome == 'jessica'"
      ]
    },
    {
      "cell_type": "code",
      "execution_count": null,
      "metadata": {
        "colab": {
          "base_uri": "https://localhost:8080/"
        },
        "id": "tr_UVdM1_xOb",
        "outputId": "1a9c2b56-a094-49ad-f861-8017a48de57c"
      },
      "outputs": [
        {
          "data": {
            "text/plain": [
              "True"
            ]
          },
          "execution_count": 13,
          "metadata": {},
          "output_type": "execute_result"
        }
      ],
      "source": [
        "nome < \"mara\"  # a ordem da tabela ASCII é considerada para definir qual string vem primeiro."
      ]
    },
    {
      "cell_type": "code",
      "execution_count": null,
      "metadata": {
        "colab": {
          "base_uri": "https://localhost:8080/"
        },
        "id": "dfa5USbQAUQ2",
        "outputId": "8633a62e-7cbb-4857-d716-ecb5a113ae1c"
      },
      "outputs": [
        {
          "data": {
            "text/plain": [
              "False"
            ]
          },
          "execution_count": 14,
          "metadata": {},
          "output_type": "execute_result"
        }
      ],
      "source": [
        "\"amelia\" > \"benedita\""
      ]
    },
    {
      "cell_type": "code",
      "execution_count": null,
      "metadata": {
        "colab": {
          "base_uri": "https://localhost:8080/"
        },
        "id": "jezzZb6-Ajbb",
        "outputId": "1bbe18ce-90ba-43b3-aa99-9414eb62a3e0"
      },
      "outputs": [
        {
          "data": {
            "text/plain": [
              "True"
            ]
          },
          "execution_count": 15,
          "metadata": {},
          "output_type": "execute_result"
        }
      ],
      "source": [
        "\"Zelia\" < \"amanda\"  # na tabela ascii, miúsculos vem antes dos minúsculos"
      ]
    },
    {
      "cell_type": "code",
      "execution_count": null,
      "metadata": {
        "colab": {
          "base_uri": "https://localhost:8080/"
        },
        "id": "5bFKZpXQAtrO",
        "outputId": "d17a0df1-5cab-462d-e0cd-5b50ecadb551"
      },
      "outputs": [
        {
          "data": {
            "text/plain": [
              "65"
            ]
          },
          "execution_count": 16,
          "metadata": {},
          "output_type": "execute_result"
        }
      ],
      "source": [
        "ord(\"A\")   # a função ord retorna o ascii de um caractere"
      ]
    },
    {
      "cell_type": "code",
      "execution_count": null,
      "metadata": {
        "colab": {
          "base_uri": "https://localhost:8080/"
        },
        "id": "Ea9TpidNA0jW",
        "outputId": "9cc316df-9970-4d1b-9d84-3ce65df39b3a"
      },
      "outputs": [
        {
          "data": {
            "text/plain": [
              "97"
            ]
          },
          "execution_count": 17,
          "metadata": {},
          "output_type": "execute_result"
        }
      ],
      "source": [
        "ord(\"a\")"
      ]
    },
    {
      "cell_type": "code",
      "execution_count": null,
      "metadata": {
        "colab": {
          "base_uri": "https://localhost:8080/",
          "height": 35
        },
        "id": "4AoWodogA8AI",
        "outputId": "23c98639-aa08-4fb5-b74a-a9ed8a2489e9"
      },
      "outputs": [
        {
          "data": {
            "application/vnd.google.colaboratory.intrinsic+json": {
              "type": "string"
            },
            "text/plain": [
              "'C'"
            ]
          },
          "execution_count": 18,
          "metadata": {},
          "output_type": "execute_result"
        }
      ],
      "source": [
        "chr(67)  # a função chr recebe um código ASCII e retorna o caractere correspondente"
      ]
    },
    {
      "cell_type": "markdown",
      "metadata": {
        "id": "9qhiPMh_Azy3"
      },
      "source": [
        "* comprimento: len\n",
        "\n",
        "O operador len retorna o comprimento de qualquer objeto conteiner"
      ]
    },
    {
      "cell_type": "code",
      "execution_count": null,
      "metadata": {
        "colab": {
          "base_uri": "https://localhost:8080/"
        },
        "id": "xylZ7ymOBycR",
        "outputId": "bc0b7c3e-d470-4dbc-ae65-e2928de7914f"
      },
      "outputs": [
        {
          "data": {
            "text/plain": [
              "3"
            ]
          },
          "execution_count": 19,
          "metadata": {},
          "output_type": "execute_result"
        }
      ],
      "source": [
        "nome1 = \"ana\"\n",
        "len(nome1)"
      ]
    },
    {
      "cell_type": "markdown",
      "metadata": {
        "id": "z-4uscW0CEMU"
      },
      "source": [
        "* participação como membro: in, not in\n",
        "\n",
        "* * in retorna True se um objeto aparece em um conteiner. E False caso contrário.\n",
        "* * not in é o resultado reverso ao operador in\n",
        "\n",
        "No caso das strings, o operador in verifica se uma string é substring de outra"
      ]
    },
    {
      "cell_type": "code",
      "execution_count": null,
      "metadata": {
        "colab": {
          "base_uri": "https://localhost:8080/"
        },
        "id": "lbAP4qHJCDk7",
        "outputId": "e575d51b-3e28-4062-de89-370b73a10bdb"
      },
      "outputs": [
        {
          "data": {
            "text/plain": [
              "True"
            ]
          },
          "execution_count": 20,
          "metadata": {},
          "output_type": "execute_result"
        }
      ],
      "source": [
        "\"a\" in nome1"
      ]
    },
    {
      "cell_type": "code",
      "execution_count": null,
      "metadata": {
        "colab": {
          "base_uri": "https://localhost:8080/"
        },
        "id": "ibPHwg_yCAJQ",
        "outputId": "52435b81-19f6-4b1f-b061-eda3bd4c9f8e"
      },
      "outputs": [
        {
          "data": {
            "text/plain": [
              "True"
            ]
          },
          "execution_count": 21,
          "metadata": {},
          "output_type": "execute_result"
        }
      ],
      "source": [
        "\"mar\" in \"marta\""
      ]
    },
    {
      "cell_type": "code",
      "execution_count": null,
      "metadata": {
        "colab": {
          "base_uri": "https://localhost:8080/"
        },
        "id": "eydvVpfXCpnM",
        "outputId": "3468441e-4f97-4186-8f7f-aab036fa4443"
      },
      "outputs": [
        {
          "data": {
            "text/plain": [
              "False"
            ]
          },
          "execution_count": 22,
          "metadata": {},
          "output_type": "execute_result"
        }
      ],
      "source": [
        "\"man\" in \"mariana\""
      ]
    },
    {
      "cell_type": "code",
      "execution_count": null,
      "metadata": {
        "colab": {
          "base_uri": "https://localhost:8080/"
        },
        "id": "vvxZFnj3C4r5",
        "outputId": "8dfbf2ad-9f5e-4873-f13b-c1dcd5baf2c8"
      },
      "outputs": [
        {
          "data": {
            "text/plain": [
              "False"
            ]
          },
          "execution_count": 23,
          "metadata": {},
          "output_type": "execute_result"
        }
      ],
      "source": [
        "\"A\" in nome1"
      ]
    },
    {
      "cell_type": "markdown",
      "metadata": {
        "id": "_2Fg14mSDRtO"
      },
      "source": [
        "# Indexação e fracionamento\n",
        "\n",
        "Python trabalha com índices para referenciar elementos em conteiners ordenados. Índices começam a contar a partir do zero."
      ]
    },
    {
      "cell_type": "code",
      "execution_count": null,
      "metadata": {
        "colab": {
          "base_uri": "https://localhost:8080/",
          "height": 35
        },
        "id": "8H52P3Q_Ddsk",
        "outputId": "79ad6572-30a7-4194-9a1d-c4fe06f777be"
      },
      "outputs": [
        {
          "data": {
            "application/vnd.google.colaboratory.intrinsic+json": {
              "type": "string"
            },
            "text/plain": [
              "'universo'"
            ]
          },
          "execution_count": 25,
          "metadata": {},
          "output_type": "execute_result"
        }
      ],
      "source": [
        "palavra = \"universo\"\n",
        "palavra"
      ]
    },
    {
      "cell_type": "code",
      "execution_count": null,
      "metadata": {
        "colab": {
          "base_uri": "https://localhost:8080/",
          "height": 35
        },
        "id": "KGE_IEhHDiqd",
        "outputId": "043e21ff-0dcc-4696-9c32-cd045f564fd7"
      },
      "outputs": [
        {
          "data": {
            "application/vnd.google.colaboratory.intrinsic+json": {
              "type": "string"
            },
            "text/plain": [
              "'u'"
            ]
          },
          "execution_count": 26,
          "metadata": {},
          "output_type": "execute_result"
        }
      ],
      "source": [
        "palavra[0]"
      ]
    },
    {
      "cell_type": "code",
      "execution_count": null,
      "metadata": {
        "colab": {
          "base_uri": "https://localhost:8080/",
          "height": 35
        },
        "id": "8OGON_SBEKYa",
        "outputId": "8fb80750-8aad-405d-9759-6f5669abc53e"
      },
      "outputs": [
        {
          "data": {
            "application/vnd.google.colaboratory.intrinsic+json": {
              "type": "string"
            },
            "text/plain": [
              "'r'"
            ]
          },
          "execution_count": 27,
          "metadata": {},
          "output_type": "execute_result"
        }
      ],
      "source": [
        "palavra[5]"
      ]
    },
    {
      "cell_type": "code",
      "execution_count": null,
      "metadata": {
        "colab": {
          "base_uri": "https://localhost:8080/",
          "height": 35
        },
        "id": "Apn13Qn6EXBO",
        "outputId": "248dfd31-dd52-422e-d9fc-40d303129ea6"
      },
      "outputs": [
        {
          "data": {
            "application/vnd.google.colaboratory.intrinsic+json": {
              "type": "string"
            },
            "text/plain": [
              "'o'"
            ]
          },
          "execution_count": 30,
          "metadata": {},
          "output_type": "execute_result"
        }
      ],
      "source": [
        "#acessando o último caracter da string\n",
        "palavra[ len(palavra) - 1 ]"
      ]
    },
    {
      "cell_type": "markdown",
      "metadata": {
        "id": "g-aZz1L-EstQ"
      },
      "source": [
        "Python possui uma forma de indexação alternativa, com índices negativos. Os índices negativos começam a contar a partir do final da string ou do conteiner ordenado.\n",
        "\n",
        "![image.png](data:image/png;base64,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)"
      ]
    },
    {
      "cell_type": "code",
      "execution_count": null,
      "metadata": {
        "colab": {
          "base_uri": "https://localhost:8080/",
          "height": 35
        },
        "id": "r4uf6E4UEax1",
        "outputId": "a4cac38f-6f0a-417f-b9cc-447ad361420c"
      },
      "outputs": [
        {
          "data": {
            "application/vnd.google.colaboratory.intrinsic+json": {
              "type": "string"
            },
            "text/plain": [
              "'o'"
            ]
          },
          "execution_count": 31,
          "metadata": {},
          "output_type": "execute_result"
        }
      ],
      "source": [
        "palavra[-1]"
      ]
    },
    {
      "cell_type": "code",
      "execution_count": null,
      "metadata": {
        "colab": {
          "base_uri": "https://localhost:8080/",
          "height": 35
        },
        "id": "MUpRyafTFKv4",
        "outputId": "d5d0819e-d295-44b0-b1c9-43e644cb9077"
      },
      "outputs": [
        {
          "data": {
            "application/vnd.google.colaboratory.intrinsic+json": {
              "type": "string"
            },
            "text/plain": [
              "'s'"
            ]
          },
          "execution_count": 32,
          "metadata": {},
          "output_type": "execute_result"
        }
      ],
      "source": [
        "palavra[-2]"
      ]
    },
    {
      "cell_type": "markdown",
      "metadata": {
        "id": "wqOH0eDwFyZV"
      },
      "source": [
        "podemos obter frações ou fatias de uma string (conteiner ordenado)"
      ]
    },
    {
      "cell_type": "code",
      "execution_count": null,
      "metadata": {
        "colab": {
          "base_uri": "https://localhost:8080/",
          "height": 35
        },
        "id": "wU8alsboF7xJ",
        "outputId": "adb55dd8-09c7-437f-94d6-4ac064553ab1"
      },
      "outputs": [
        {
          "data": {
            "application/vnd.google.colaboratory.intrinsic+json": {
              "type": "string"
            },
            "text/plain": [
              "'niver'"
            ]
          },
          "execution_count": 35,
          "metadata": {},
          "output_type": "execute_result"
        }
      ],
      "source": [
        "palavra[1:6]  # Retorna uma string a partir do índice 1 até o índice 6 da string apontada por palavra."
      ]
    },
    {
      "cell_type": "markdown",
      "metadata": {
        "id": "mfOEEjwfG4n4"
      },
      "source": [
        "Note que o índice final (6) não entrou no resultado"
      ]
    },
    {
      "cell_type": "code",
      "execution_count": null,
      "metadata": {
        "colab": {
          "base_uri": "https://localhost:8080/",
          "height": 35
        },
        "id": "patGuPyHGTaR",
        "outputId": "ab27a6ef-9fd0-44b3-f5b8-d3dcd52b7ab6"
      },
      "outputs": [
        {
          "data": {
            "application/vnd.google.colaboratory.intrinsic+json": {
              "type": "string"
            },
            "text/plain": [
              "'universo'"
            ]
          },
          "execution_count": 36,
          "metadata": {},
          "output_type": "execute_result"
        }
      ],
      "source": [
        "palavra"
      ]
    },
    {
      "cell_type": "code",
      "execution_count": null,
      "metadata": {
        "colab": {
          "base_uri": "https://localhost:8080/",
          "height": 35
        },
        "id": "KLdid7n3GWQl",
        "outputId": "a1dbb3b5-799f-455c-fb64-50ba441c7660"
      },
      "outputs": [
        {
          "data": {
            "application/vnd.google.colaboratory.intrinsic+json": {
              "type": "string"
            },
            "text/plain": [
              "'un'"
            ]
          },
          "execution_count": 38,
          "metadata": {},
          "output_type": "execute_result"
        }
      ],
      "source": [
        "palavra[0:2]  # obtém a subtring do índice 0 até o índice 2 sem incluir o índice 2."
      ]
    },
    {
      "cell_type": "code",
      "execution_count": null,
      "metadata": {
        "colab": {
          "base_uri": "https://localhost:8080/",
          "height": 35
        },
        "id": "LiE3Bj85GmC2",
        "outputId": "250d3b06-cb9b-46d0-ce0c-b0b8d1651924"
      },
      "outputs": [
        {
          "data": {
            "application/vnd.google.colaboratory.intrinsic+json": {
              "type": "string"
            },
            "text/plain": [
              "'verso'"
            ]
          },
          "execution_count": 40,
          "metadata": {},
          "output_type": "execute_result"
        }
      ],
      "source": [
        "palavra[3:8]"
      ]
    },
    {
      "cell_type": "code",
      "execution_count": null,
      "metadata": {
        "colab": {
          "base_uri": "https://localhost:8080/",
          "height": 35
        },
        "id": "sKn8nEqVHvGw",
        "outputId": "3487bcb6-fd6d-4d76-8267-e00079168c0f"
      },
      "outputs": [
        {
          "data": {
            "application/vnd.google.colaboratory.intrinsic+json": {
              "type": "string"
            },
            "text/plain": [
              "'verso'"
            ]
          },
          "execution_count": 41,
          "metadata": {},
          "output_type": "execute_result"
        }
      ],
      "source": [
        "palavra[3: ]   # se você omitir o segundo índice, ele assume que vai até o final"
      ]
    },
    {
      "cell_type": "code",
      "execution_count": null,
      "metadata": {
        "colab": {
          "base_uri": "https://localhost:8080/",
          "height": 35
        },
        "id": "eWYxIBo_H_9y",
        "outputId": "d666f53a-e4a1-4790-8b4f-246a106eac98"
      },
      "outputs": [
        {
          "data": {
            "application/vnd.google.colaboratory.intrinsic+json": {
              "type": "string"
            },
            "text/plain": [
              "'univ'"
            ]
          },
          "execution_count": 42,
          "metadata": {},
          "output_type": "execute_result"
        }
      ],
      "source": [
        "palavra[ :4]  # se você omitir o primeiro índice, ele assume que começa do início"
      ]
    },
    {
      "cell_type": "code",
      "execution_count": null,
      "metadata": {
        "colab": {
          "base_uri": "https://localhost:8080/",
          "height": 35
        },
        "id": "Hby7dydtIGi6",
        "outputId": "a85d2e73-8a27-453a-c67f-647f6050766a"
      },
      "outputs": [
        {
          "data": {
            "application/vnd.google.colaboratory.intrinsic+json": {
              "type": "string"
            },
            "text/plain": [
              "'universo'"
            ]
          },
          "execution_count": 43,
          "metadata": {},
          "output_type": "execute_result"
        }
      ],
      "source": [
        "palavra[ : ]  # gera uma cópia (rasa) da string (conteiner)"
      ]
    },
    {
      "cell_type": "code",
      "execution_count": null,
      "metadata": {
        "colab": {
          "base_uri": "https://localhost:8080/",
          "height": 35
        },
        "id": "imcSG2XOKy0X",
        "outputId": "8ed55e59-7bb8-4955-a9cc-ba518fdcc704"
      },
      "outputs": [
        {
          "data": {
            "application/vnd.google.colaboratory.intrinsic+json": {
              "type": "string"
            },
            "text/plain": [
              "'uies'"
            ]
          },
          "execution_count": 44,
          "metadata": {},
          "output_type": "execute_result"
        }
      ],
      "source": [
        "#podemos passar um terceiro argumento para  a operação fracionmento que é o passo\n",
        "palavra[0:7:2]"
      ]
    },
    {
      "cell_type": "code",
      "execution_count": null,
      "metadata": {
        "colab": {
          "base_uri": "https://localhost:8080/",
          "height": 35
        },
        "id": "HjapEX0rLKuI",
        "outputId": "308bcbee-0b05-4acd-b848-034db4f1aa34"
      },
      "outputs": [
        {
          "data": {
            "application/vnd.google.colaboratory.intrinsic+json": {
              "type": "string"
            },
            "text/plain": [
              "''"
            ]
          },
          "execution_count": 45,
          "metadata": {},
          "output_type": "execute_result"
        }
      ],
      "source": [
        "palavra[7:0]  #string vazia, pois o início é maior que o fim"
      ]
    },
    {
      "cell_type": "code",
      "execution_count": null,
      "metadata": {
        "colab": {
          "base_uri": "https://localhost:8080/",
          "height": 35
        },
        "id": "d-G7Yyd7LgN8",
        "outputId": "64d1c536-4520-4b61-cf95-20061077dc32"
      },
      "outputs": [
        {
          "data": {
            "application/vnd.google.colaboratory.intrinsic+json": {
              "type": "string"
            },
            "text/plain": [
              "'osrevinu'"
            ]
          },
          "execution_count": 50,
          "metadata": {},
          "output_type": "execute_result"
        }
      ],
      "source": [
        "#mas podemos usar passo negativo para percorrer de trás para frente\n",
        "palavra[ : :-1]"
      ]
    },
    {
      "cell_type": "markdown",
      "metadata": {
        "id": "aKiEvIDTIjRa"
      },
      "source": [
        "* String vazia: \"\""
      ]
    },
    {
      "cell_type": "code",
      "execution_count": null,
      "metadata": {
        "colab": {
          "base_uri": "https://localhost:8080/",
          "height": 35
        },
        "id": "RBxZAWUdMPld",
        "outputId": "568e8640-a6cd-49b0-c320-4151a338e0a7"
      },
      "outputs": [
        {
          "data": {
            "application/vnd.google.colaboratory.intrinsic+json": {
              "type": "string"
            },
            "text/plain": [
              "''"
            ]
          },
          "execution_count": 51,
          "metadata": {},
          "output_type": "execute_result"
        }
      ],
      "source": [
        "t = \"\"\n",
        "t"
      ]
    },
    {
      "cell_type": "code",
      "execution_count": null,
      "metadata": {
        "colab": {
          "base_uri": "https://localhost:8080/"
        },
        "id": "_UPo-ez5MSNF",
        "outputId": "bbadef5a-7a0e-4658-e7db-9c98b5d9df63"
      },
      "outputs": [
        {
          "data": {
            "text/plain": [
              "0"
            ]
          },
          "execution_count": 52,
          "metadata": {},
          "output_type": "execute_result"
        }
      ],
      "source": [
        "len(t)"
      ]
    },
    {
      "cell_type": "code",
      "execution_count": null,
      "metadata": {
        "colab": {
          "base_uri": "https://localhost:8080/"
        },
        "id": "ahrXgRlfMVPm",
        "outputId": "61b858a3-3aea-405a-b76c-c0dff5928dae"
      },
      "outputs": [
        {
          "data": {
            "text/plain": [
              "str"
            ]
          },
          "execution_count": 53,
          "metadata": {},
          "output_type": "execute_result"
        }
      ],
      "source": [
        "type(t)"
      ]
    },
    {
      "cell_type": "markdown",
      "metadata": {
        "id": "7qXdc5TLMl3m"
      },
      "source": [
        "* construtor: str\n",
        "\n",
        "O construtor permite construir objetos string"
      ]
    },
    {
      "cell_type": "code",
      "execution_count": null,
      "metadata": {
        "colab": {
          "base_uri": "https://localhost:8080/"
        },
        "id": "zn8sN9HHMrRl",
        "outputId": "de615307-ec3b-4da4-d6b4-0da942c4f630"
      },
      "outputs": [
        {
          "data": {
            "text/plain": [
              "1994"
            ]
          },
          "execution_count": 54,
          "metadata": {},
          "output_type": "execute_result"
        }
      ],
      "source": [
        "ano = 1994\n",
        "ano"
      ]
    },
    {
      "cell_type": "code",
      "execution_count": null,
      "metadata": {
        "colab": {
          "base_uri": "https://localhost:8080/",
          "height": 35
        },
        "id": "yDr0RTs9MuO5",
        "outputId": "8c57c313-83a3-4507-da89-fe093edece26"
      },
      "outputs": [
        {
          "data": {
            "application/vnd.google.colaboratory.intrinsic+json": {
              "type": "string"
            },
            "text/plain": [
              "'1994'"
            ]
          },
          "execution_count": 56,
          "metadata": {},
          "output_type": "execute_result"
        }
      ],
      "source": [
        "anostring = str(ano)\n",
        "anostring"
      ]
    },
    {
      "cell_type": "markdown",
      "metadata": {
        "id": "M25Xfx_gM-FM"
      },
      "source": [
        "* iterador: for\n",
        "\n",
        "for funciona como iterador de conteiner (sequências) em Python.\n",
        "\n",
        "Para percorrer uma string, podemos iterar diretamente sobre seus elementos, ou iterar sobre os índices da string"
      ]
    },
    {
      "cell_type": "code",
      "execution_count": null,
      "metadata": {
        "colab": {
          "base_uri": "https://localhost:8080/"
        },
        "id": "WcAthmS0NgXU",
        "outputId": "837d84d2-6ba8-4307-8aa1-7ca8a6a563ba"
      },
      "outputs": [
        {
          "name": "stdout",
          "output_type": "stream",
          "text": [
            "u\n",
            "n\n",
            "i\n",
            "v\n",
            "e\n",
            "r\n",
            "s\n",
            "o\n"
          ]
        }
      ],
      "source": [
        "#percorrendo os elementos da string\n",
        "\n",
        "for c in palavra:   # c percorrerá os elementos da string apontada por palavra um a um, em sua respectiva ordem\n",
        "  print(c)"
      ]
    },
    {
      "cell_type": "code",
      "execution_count": null,
      "metadata": {
        "colab": {
          "base_uri": "https://localhost:8080/"
        },
        "id": "FWfj0nR8OIGH",
        "outputId": "b7feef19-f406-455c-e25b-a8be95008b34"
      },
      "outputs": [
        {
          "name": "stdout",
          "output_type": "stream",
          "text": [
            "3\n",
            "5\n",
            "7\n"
          ]
        }
      ],
      "source": [
        "primos = (2,3,5,7)\n",
        "for num in primos:\n",
        "  if num % 2 == 1:    # testa se o resto da divisão de num por 2 é igual a 1\n",
        "    print(num)"
      ]
    },
    {
      "cell_type": "markdown",
      "metadata": {
        "id": "4ouxrAdFO6eJ"
      },
      "source": [
        "podemos também percorrer os índices de uma string com auxílio de um objeto range"
      ]
    },
    {
      "cell_type": "code",
      "execution_count": null,
      "metadata": {
        "colab": {
          "base_uri": "https://localhost:8080/"
        },
        "id": "s0IhDKi4O2Hv",
        "outputId": "bad3ba09-eab7-4433-f73a-62815f5082c7"
      },
      "outputs": [
        {
          "name": "stdout",
          "output_type": "stream",
          "text": [
            "0\n",
            "1\n",
            "2\n",
            "3\n",
            "4\n",
            "5\n",
            "6\n",
            "7\n"
          ]
        }
      ],
      "source": [
        "for i in range(0, 8):   # i percorrerá os elementos do intervalo de 0 até 8 sem incluir o 8\n",
        "  print(i)"
      ]
    },
    {
      "cell_type": "code",
      "execution_count": null,
      "metadata": {
        "colab": {
          "base_uri": "https://localhost:8080/"
        },
        "id": "qFaGZUHqPUce",
        "outputId": "9479f799-a9ab-4168-8645-5dc66d7a408b"
      },
      "outputs": [
        {
          "name": "stdout",
          "output_type": "stream",
          "text": [
            "u\n",
            "n\n",
            "i\n",
            "v\n",
            "e\n",
            "r\n",
            "s\n",
            "o\n"
          ]
        }
      ],
      "source": [
        "for i in range(0, 8):\n",
        "  print( palavra[i] )"
      ]
    },
    {
      "cell_type": "code",
      "execution_count": null,
      "metadata": {
        "colab": {
          "base_uri": "https://localhost:8080/"
        },
        "id": "HgNtU3r_QUBe",
        "outputId": "f865240e-4fd5-41bc-a7b9-4d936bbdfd6d"
      },
      "outputs": [
        {
          "name": "stdout",
          "output_type": "stream",
          "text": [
            "a\n",
            "n\n",
            "a\n"
          ]
        }
      ],
      "source": [
        "for g in range(0, len(nome1) ):\n",
        "  print( nome1[g] )"
      ]
    },
    {
      "cell_type": "code",
      "execution_count": null,
      "metadata": {
        "colab": {
          "base_uri": "https://localhost:8080/"
        },
        "id": "Ix64i5wePsaM",
        "outputId": "07e6d4e0-6deb-43ad-97d5-34002004050a"
      },
      "outputs": [
        {
          "name": "stdout",
          "output_type": "stream",
          "text": [
            "0\n",
            "2\n",
            "4\n",
            "6\n",
            "8\n",
            "10\n"
          ]
        }
      ],
      "source": [
        "#imprimindo pares de 0 até 10\n",
        "for k in range(0, 11, 2):\n",
        "  print(k)"
      ]
    },
    {
      "cell_type": "markdown",
      "metadata": {
        "id": "ITnKv3RiMa4V"
      },
      "source": [
        "As constantes de barra invertida em C são aceitas nas strings em Python como \\n, \\t, exceto o \\0"
      ]
    }
  ],
  "metadata": {
    "colab": {
      "provenance": []
    },
    "kernelspec": {
      "display_name": "Python 3",
      "name": "python3"
    },
    "language_info": {
      "name": "python"
    }
  },
  "nbformat": 4,
  "nbformat_minor": 0
}
