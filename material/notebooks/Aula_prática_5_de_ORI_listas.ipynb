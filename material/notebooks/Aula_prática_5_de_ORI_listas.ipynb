{
  "nbformat": 4,
  "nbformat_minor": 0,
  "metadata": {
    "colab": {
      "provenance": []
    },
    "kernelspec": {
      "name": "python3",
      "display_name": "Python 3"
    },
    "language_info": {
      "name": "python"
    }
  },
  "cells": [
    {
      "cell_type": "markdown",
      "source": [
        "# Aula 5 de ORI - Listas\n",
        "\n",
        "https://wendelmelo.net/iup/#listas-e-tuplas-caplistas-captuplas"
      ],
      "metadata": {
        "id": "1zBu3Z5bVGo8"
      }
    },
    {
      "cell_type": "markdown",
      "source": [
        "#Listas\n",
        "\n",
        "* Listas são coleções (conteiners) de objetos arbitrários sob uma ordem (arrays)\n",
        "* Listas são objetos mutáveis\n"
      ],
      "metadata": {
        "id": "fGlNuZ3QWMP_"
      }
    },
    {
      "cell_type": "code",
      "execution_count": null,
      "metadata": {
        "colab": {
          "base_uri": "https://localhost:8080/"
        },
        "id": "UMnqQuklU1b3",
        "outputId": "df1b195a-b7ff-4c49-c6f0-67d5b171f17f"
      },
      "outputs": [
        {
          "output_type": "execute_result",
          "data": {
            "text/plain": [
              "[1, 'Jessica', (2+1j), -3.14, [80, 90]]"
            ]
          },
          "metadata": {},
          "execution_count": 2
        }
      ],
      "source": [
        "L1 = [1, \"Jessica\", 2 + 1j, -3.14,  [80, 90]  ]\n",
        "L1"
      ]
    },
    {
      "cell_type": "code",
      "source": [
        "type(L1)"
      ],
      "metadata": {
        "colab": {
          "base_uri": "https://localhost:8080/"
        },
        "id": "PYpj32dVXbF6",
        "outputId": "9226d044-4fe7-4b9b-d176-f72cdf75970f"
      },
      "execution_count": null,
      "outputs": [
        {
          "output_type": "execute_result",
          "data": {
            "text/plain": [
              "list"
            ]
          },
          "metadata": {},
          "execution_count": 3
        }
      ]
    },
    {
      "cell_type": "code",
      "source": [
        "L1[2] = \"carol\"    #podemos alterar os elementos de uma lista\n",
        "L1"
      ],
      "metadata": {
        "colab": {
          "base_uri": "https://localhost:8080/"
        },
        "id": "fO0KydrdXe42",
        "outputId": "a4bb7703-6aea-4e5c-9c92-78254e1c9ac5"
      },
      "execution_count": null,
      "outputs": [
        {
          "output_type": "execute_result",
          "data": {
            "text/plain": [
              "[1, 'Jessica', 'carol', -3.14, [80, 90]]"
            ]
          },
          "metadata": {},
          "execution_count": 4
        }
      ]
    },
    {
      "cell_type": "code",
      "source": [
        "L1[1] = \"karen\"\n",
        "L1"
      ],
      "metadata": {
        "colab": {
          "base_uri": "https://localhost:8080/"
        },
        "id": "XU0_Yai_Xrl2",
        "outputId": "035f7edd-bab4-4ded-de0a-b284d72171ba"
      },
      "execution_count": null,
      "outputs": [
        {
          "output_type": "execute_result",
          "data": {
            "text/plain": [
              "[1, 'karen', 'carol', -3.14, [80, 90]]"
            ]
          },
          "metadata": {},
          "execution_count": 5
        }
      ]
    },
    {
      "cell_type": "code",
      "source": [
        "L1[1][0]   #acessa o elemento na posição 0 dentro do elemento que está na posição 1 de L1"
      ],
      "metadata": {
        "colab": {
          "base_uri": "https://localhost:8080/",
          "height": 35
        },
        "id": "lU89ZuwAX-yD",
        "outputId": "89437436-c8a6-4c05-d634-bdc0b532ed1a"
      },
      "execution_count": null,
      "outputs": [
        {
          "output_type": "execute_result",
          "data": {
            "text/plain": [
              "'k'"
            ],
            "application/vnd.google.colaboratory.intrinsic+json": {
              "type": "string"
            }
          },
          "metadata": {},
          "execution_count": 6
        }
      ]
    },
    {
      "cell_type": "markdown",
      "source": [
        "#Operações com listas\n",
        "\n",
        "* lista vazia: []"
      ],
      "metadata": {
        "id": "2Sj0MlsdYgrP"
      }
    },
    {
      "cell_type": "code",
      "source": [
        "L0 = []\n",
        "L0"
      ],
      "metadata": {
        "colab": {
          "base_uri": "https://localhost:8080/"
        },
        "id": "vSMayRAnYmUZ",
        "outputId": "42ab1218-c914-47ec-d253-99bef68b0d27"
      },
      "execution_count": null,
      "outputs": [
        {
          "output_type": "execute_result",
          "data": {
            "text/plain": [
              "[]"
            ]
          },
          "metadata": {},
          "execution_count": 7
        }
      ]
    },
    {
      "cell_type": "markdown",
      "source": [
        "* conversão para lista: list   \n",
        "O construtor list permite gerar listas a partir de objetos conteiners"
      ],
      "metadata": {
        "id": "R2nKn6tgYqKP"
      }
    },
    {
      "cell_type": "code",
      "source": [
        "nome = \"Jessica\"\n",
        "list(nome)"
      ],
      "metadata": {
        "colab": {
          "base_uri": "https://localhost:8080/"
        },
        "id": "BN83eGfcYv-i",
        "outputId": "0639f5b7-8de9-4998-9d2a-e52b725c65f5"
      },
      "execution_count": null,
      "outputs": [
        {
          "output_type": "execute_result",
          "data": {
            "text/plain": [
              "['J', 'e', 's', 's', 'i', 'c', 'a']"
            ]
          },
          "metadata": {},
          "execution_count": 8
        }
      ]
    },
    {
      "cell_type": "code",
      "source": [
        "primos = (2, 3, 5, 7, 11)   # geramos um objeto tupla (array imutável)\n",
        "type(primos)"
      ],
      "metadata": {
        "colab": {
          "base_uri": "https://localhost:8080/"
        },
        "id": "VRtuD9c8ZB4c",
        "outputId": "a07f844a-511e-45f1-9edc-fd98c1fb9a85"
      },
      "execution_count": null,
      "outputs": [
        {
          "output_type": "execute_result",
          "data": {
            "text/plain": [
              "tuple"
            ]
          },
          "metadata": {},
          "execution_count": 9
        }
      ]
    },
    {
      "cell_type": "code",
      "source": [
        "primos[0] = -1  # não podemos mudar uma tupla!"
      ],
      "metadata": {
        "colab": {
          "base_uri": "https://localhost:8080/",
          "height": 183
        },
        "id": "UtBSfSowZVGi",
        "outputId": "36b08877-cff6-408d-e321-71ad23ef3931"
      },
      "execution_count": null,
      "outputs": [
        {
          "output_type": "error",
          "ename": "TypeError",
          "evalue": "ignored",
          "traceback": [
            "\u001b[0;31m---------------------------------------------------------------------------\u001b[0m",
            "\u001b[0;31mTypeError\u001b[0m                                 Traceback (most recent call last)",
            "\u001b[0;32m<ipython-input-10-8e172ce667c1>\u001b[0m in \u001b[0;36m<cell line: 1>\u001b[0;34m()\u001b[0m\n\u001b[0;32m----> 1\u001b[0;31m \u001b[0mprimos\u001b[0m\u001b[0;34m[\u001b[0m\u001b[0;36m0\u001b[0m\u001b[0;34m]\u001b[0m \u001b[0;34m=\u001b[0m \u001b[0;34m-\u001b[0m\u001b[0;36m1\u001b[0m  \u001b[0;31m# não podemos mudar uma tupla!\u001b[0m\u001b[0;34m\u001b[0m\u001b[0;34m\u001b[0m\u001b[0m\n\u001b[0m",
            "\u001b[0;31mTypeError\u001b[0m: 'tuple' object does not support item assignment"
          ]
        }
      ]
    },
    {
      "cell_type": "code",
      "source": [
        "#para fazer a alteração desejada, podemos gerar uma lista e aterá-la\n",
        "listaprimos = list(primos)\n",
        "listaprimos[0] = -1\n",
        "listaprimos"
      ],
      "metadata": {
        "colab": {
          "base_uri": "https://localhost:8080/"
        },
        "id": "GOMHMXH3Zcru",
        "outputId": "067974c7-0c73-4be7-990b-b79f9b3209eb"
      },
      "execution_count": null,
      "outputs": [
        {
          "output_type": "execute_result",
          "data": {
            "text/plain": [
              "[-1, 3, 5, 7, 11]"
            ]
          },
          "metadata": {},
          "execution_count": 11
        }
      ]
    },
    {
      "cell_type": "markdown",
      "source": [
        "* podemos acessar fatias da lista com [] e :"
      ],
      "metadata": {
        "id": "lFAHM4OPZ2lN"
      }
    },
    {
      "cell_type": "code",
      "source": [
        "L1[1:4]"
      ],
      "metadata": {
        "colab": {
          "base_uri": "https://localhost:8080/"
        },
        "id": "6gNSLYn0Z7c7",
        "outputId": "54603ffc-7991-4c6e-d079-5390c83c6ac9"
      },
      "execution_count": null,
      "outputs": [
        {
          "output_type": "execute_result",
          "data": {
            "text/plain": [
              "['karen', 'carol', -3.14]"
            ]
          },
          "metadata": {},
          "execution_count": 12
        }
      ]
    },
    {
      "cell_type": "code",
      "source": [
        "L1"
      ],
      "metadata": {
        "colab": {
          "base_uri": "https://localhost:8080/"
        },
        "id": "x80Xt4gmaWWm",
        "outputId": "b93dfe5c-4817-4ad8-df49-e6e8127d1dcf"
      },
      "execution_count": null,
      "outputs": [
        {
          "output_type": "execute_result",
          "data": {
            "text/plain": [
              "[1, 'karen', 'carol', -3.14, [80, 90]]"
            ]
          },
          "metadata": {},
          "execution_count": 13
        }
      ]
    },
    {
      "cell_type": "code",
      "source": [
        "L1[0:5:2]   #pega os elementos da lista de dois em dois"
      ],
      "metadata": {
        "colab": {
          "base_uri": "https://localhost:8080/"
        },
        "id": "9JbeMvhKaH36",
        "outputId": "928a856f-d68a-404b-fc1a-f1cfdaa3b198"
      },
      "execution_count": null,
      "outputs": [
        {
          "output_type": "execute_result",
          "data": {
            "text/plain": [
              "[1, 'carol', [80, 90]]"
            ]
          },
          "metadata": {},
          "execution_count": 14
        }
      ]
    },
    {
      "cell_type": "markdown",
      "source": [
        "* comprimento: len"
      ],
      "metadata": {
        "id": "IuPQCC99alCK"
      }
    },
    {
      "cell_type": "code",
      "source": [
        "len(L1)   #retorna a quantidade de elementos na lista apontada por L1"
      ],
      "metadata": {
        "colab": {
          "base_uri": "https://localhost:8080/"
        },
        "id": "By2FvN05ark0",
        "outputId": "c48e63e2-7ba9-49ae-96d1-032b40e29de9"
      },
      "execution_count": null,
      "outputs": [
        {
          "output_type": "execute_result",
          "data": {
            "text/plain": [
              "5"
            ]
          },
          "metadata": {},
          "execution_count": 15
        }
      ]
    },
    {
      "cell_type": "markdown",
      "source": [
        "* concatenação: +"
      ],
      "metadata": {
        "id": "SG2TguM3a0uK"
      }
    },
    {
      "cell_type": "code",
      "source": [
        "[1,2,3] + [4, 5]"
      ],
      "metadata": {
        "colab": {
          "base_uri": "https://localhost:8080/"
        },
        "id": "ifxzeWGra5Rn",
        "outputId": "5b0f160e-dcea-4219-8be0-a16fa50d9bb1"
      },
      "execution_count": null,
      "outputs": [
        {
          "output_type": "execute_result",
          "data": {
            "text/plain": [
              "[1, 2, 3, 4, 5]"
            ]
          },
          "metadata": {},
          "execution_count": 16
        }
      ]
    },
    {
      "cell_type": "markdown",
      "source": [
        "* repetição: *"
      ],
      "metadata": {
        "id": "0WVcjeJAbKIE"
      }
    },
    {
      "cell_type": "code",
      "source": [
        "L = [\"Ana\", 7] * 4\n",
        "L"
      ],
      "metadata": {
        "colab": {
          "base_uri": "https://localhost:8080/"
        },
        "id": "HH5bPCm4bEio",
        "outputId": "ef18efba-b661-4f25-8e22-e7407a84ac9e"
      },
      "execution_count": null,
      "outputs": [
        {
          "output_type": "execute_result",
          "data": {
            "text/plain": [
              "['Ana', 7, 'Ana', 7, 'Ana', 7, 'Ana', 7]"
            ]
          },
          "metadata": {},
          "execution_count": 17
        }
      ]
    },
    {
      "cell_type": "markdown",
      "source": [
        "* remoção de ítem: del"
      ],
      "metadata": {
        "id": "EQrQvHN3t5kU"
      }
    },
    {
      "cell_type": "code",
      "source": [
        "del L1[3]\n",
        "L1"
      ],
      "metadata": {
        "colab": {
          "base_uri": "https://localhost:8080/"
        },
        "id": "40PYQHbIt2FY",
        "outputId": "469eb0e5-75d7-4f46-92fb-c50a590d927e"
      },
      "execution_count": null,
      "outputs": [
        {
          "output_type": "execute_result",
          "data": {
            "text/plain": [
              "[1, 'karen', 'carol', [80, 90]]"
            ]
          },
          "metadata": {},
          "execution_count": 18
        }
      ]
    },
    {
      "cell_type": "markdown",
      "source": [
        "* Iteração: for"
      ],
      "metadata": {
        "id": "r-W96H6obiaK"
      }
    },
    {
      "cell_type": "code",
      "source": [
        "for e in L1:    # a variável e vai percorrer os elementos da lista L1, um por um, em sua respectiva ordem\n",
        "  print(e)"
      ],
      "metadata": {
        "colab": {
          "base_uri": "https://localhost:8080/"
        },
        "id": "77F8QKBWbIja",
        "outputId": "cd273229-d668-4f1b-82e6-ab6b9a898692"
      },
      "execution_count": null,
      "outputs": [
        {
          "output_type": "stream",
          "name": "stdout",
          "text": [
            "1\n",
            "karen\n",
            "carol\n",
            "[80, 90]\n"
          ]
        }
      ]
    },
    {
      "cell_type": "code",
      "source": [
        "#podemos percorrer uma lista através dos índices\n",
        "for i in range(0, len(L1), 1 ):   #i percorre o intervalo numérico de 0 até o tamanho de L1 -1, de um em um\n",
        "  print( L1[i] )"
      ],
      "metadata": {
        "colab": {
          "base_uri": "https://localhost:8080/"
        },
        "id": "4ODiBRvFb4UL",
        "outputId": "a1d3f575-3582-4ce9-e3d5-6ade5d1984d4"
      },
      "execution_count": null,
      "outputs": [
        {
          "output_type": "stream",
          "name": "stdout",
          "text": [
            "1\n",
            "karen\n",
            "carol\n",
            "[80, 90]\n"
          ]
        }
      ]
    },
    {
      "cell_type": "markdown",
      "source": [
        "# Cópias\n",
        "\n",
        "É preciso ter cuidado ao lidar com objetos mutáveis!"
      ],
      "metadata": {
        "id": "x7UpeUb_crAO"
      }
    },
    {
      "cell_type": "code",
      "source": [
        "L1 = [1, 2, 3]\n",
        "L1"
      ],
      "metadata": {
        "colab": {
          "base_uri": "https://localhost:8080/"
        },
        "id": "cE7CCIh3dL9A",
        "outputId": "a6ca1cca-a0e5-471b-c6e5-672079af035e"
      },
      "execution_count": null,
      "outputs": [
        {
          "output_type": "execute_result",
          "data": {
            "text/plain": [
              "[1, 2, 3]"
            ]
          },
          "metadata": {},
          "execution_count": 27
        }
      ]
    },
    {
      "cell_type": "code",
      "source": [
        "L2 = L1    #NÃO GERA CÓPIA!!!!!!! APENAS FAZ L2 APONTAR PARA O MESMO OBJETO QUE L1 JÁ APONTA\n",
        "L2"
      ],
      "metadata": {
        "colab": {
          "base_uri": "https://localhost:8080/"
        },
        "id": "XNKIylJ5dTt7",
        "outputId": "1aa60992-7e7d-4cf7-8a91-8bd1baf5fe83"
      },
      "execution_count": null,
      "outputs": [
        {
          "output_type": "execute_result",
          "data": {
            "text/plain": [
              "[1, 2, 3]"
            ]
          },
          "metadata": {},
          "execution_count": 28
        }
      ]
    },
    {
      "cell_type": "code",
      "source": [
        "L2[0] = 7\n",
        "L2"
      ],
      "metadata": {
        "colab": {
          "base_uri": "https://localhost:8080/"
        },
        "id": "HciY4NXkdm8R",
        "outputId": "caff9f4f-6ea1-4aa5-b881-9d27fe727b28"
      },
      "execution_count": null,
      "outputs": [
        {
          "output_type": "execute_result",
          "data": {
            "text/plain": [
              "[7, 2, 3]"
            ]
          },
          "metadata": {},
          "execution_count": 29
        }
      ]
    },
    {
      "cell_type": "code",
      "source": [
        "L1"
      ],
      "metadata": {
        "colab": {
          "base_uri": "https://localhost:8080/"
        },
        "id": "jKwPiBQadsTM",
        "outputId": "dab0e52f-aa85-45d3-8752-d6da9629b01f"
      },
      "execution_count": null,
      "outputs": [
        {
          "output_type": "execute_result",
          "data": {
            "text/plain": [
              "[7, 2, 3]"
            ]
          },
          "metadata": {},
          "execution_count": 30
        }
      ]
    },
    {
      "cell_type": "markdown",
      "source": [
        "# Cópia Rasa"
      ],
      "metadata": {
        "id": "uDfROM79eFLk"
      }
    },
    {
      "cell_type": "code",
      "source": [
        "L1 = [1, 2, 3]\n",
        "L1"
      ],
      "metadata": {
        "colab": {
          "base_uri": "https://localhost:8080/"
        },
        "id": "ZsUUqvkseD_E",
        "outputId": "e34c879c-80aa-4ecd-e38b-f8bd351db726"
      },
      "execution_count": null,
      "outputs": [
        {
          "output_type": "execute_result",
          "data": {
            "text/plain": [
              "[1, 2, 3]"
            ]
          },
          "metadata": {},
          "execution_count": 32
        }
      ]
    },
    {
      "cell_type": "markdown",
      "source": [
        "![diagrama_copia_rasa0.jpg](data:image/jpeg;base64,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)"
      ],
      "metadata": {
        "id": "yMDN-RCuePP6"
      }
    },
    {
      "cell_type": "markdown",
      "source": [
        "podemos gerar a cópia rasa de várias formas"
      ],
      "metadata": {
        "id": "RG4O1hSUeTt5"
      }
    },
    {
      "cell_type": "code",
      "source": [
        "L2 = list(L1)     # gera uma cópia rasa\n",
        "L3 = L1"
      ],
      "metadata": {
        "id": "hwGqnNLSeo1B"
      },
      "execution_count": null,
      "outputs": []
    },
    {
      "cell_type": "code",
      "source": [
        "L2"
      ],
      "metadata": {
        "colab": {
          "base_uri": "https://localhost:8080/"
        },
        "id": "KlHiAlcfexwB",
        "outputId": "6a8ecefe-340a-4eb6-cecc-ca433b3c9ff7"
      },
      "execution_count": null,
      "outputs": [
        {
          "output_type": "execute_result",
          "data": {
            "text/plain": [
              "[1, 2, 3]"
            ]
          },
          "metadata": {},
          "execution_count": 34
        }
      ]
    },
    {
      "cell_type": "code",
      "source": [
        "L3"
      ],
      "metadata": {
        "colab": {
          "base_uri": "https://localhost:8080/"
        },
        "id": "dtaFkCEhezB1",
        "outputId": "5ce1e261-a4bf-4839-f6b7-e232993ae1bb"
      },
      "execution_count": null,
      "outputs": [
        {
          "output_type": "execute_result",
          "data": {
            "text/plain": [
              "[1, 2, 3]"
            ]
          },
          "metadata": {},
          "execution_count": 35
        }
      ]
    },
    {
      "cell_type": "code",
      "source": [
        "L1 is L2    # retorna True se L1 e L2 apontarem para o mesmo objeto"
      ],
      "metadata": {
        "colab": {
          "base_uri": "https://localhost:8080/"
        },
        "id": "mOCY9lMpe1kT",
        "outputId": "a678a2c0-8209-4e48-80cc-f63550a58f05"
      },
      "execution_count": null,
      "outputs": [
        {
          "output_type": "execute_result",
          "data": {
            "text/plain": [
              "False"
            ]
          },
          "metadata": {},
          "execution_count": 36
        }
      ]
    },
    {
      "cell_type": "code",
      "source": [
        "L1 is L3"
      ],
      "metadata": {
        "colab": {
          "base_uri": "https://localhost:8080/"
        },
        "id": "8e9CEZD9e6Tk",
        "outputId": "65ad008c-f431-49cd-d178-ee63902f6bcc"
      },
      "execution_count": null,
      "outputs": [
        {
          "output_type": "execute_result",
          "data": {
            "text/plain": [
              "True"
            ]
          },
          "metadata": {},
          "execution_count": 37
        }
      ]
    },
    {
      "cell_type": "code",
      "source": [
        "L1 == L2"
      ],
      "metadata": {
        "colab": {
          "base_uri": "https://localhost:8080/"
        },
        "id": "nlferxr1e-AL",
        "outputId": "48e31c2c-405a-4462-d1cd-7f123fdfdee0"
      },
      "execution_count": null,
      "outputs": [
        {
          "output_type": "execute_result",
          "data": {
            "text/plain": [
              "True"
            ]
          },
          "metadata": {},
          "execution_count": 38
        }
      ]
    },
    {
      "cell_type": "code",
      "source": [
        "# há muitas formas de se gerar cópia rasa conforme abaixo:\n",
        "L2 = L1 + []\n",
        "L2 = L1 * 1\n",
        "L2 = L1[ : ]"
      ],
      "metadata": {
        "colab": {
          "base_uri": "https://localhost:8080/"
        },
        "id": "z6WO71lSfNNf",
        "outputId": "2f875b58-6410-4264-f853-3d4441975dc3"
      },
      "execution_count": null,
      "outputs": [
        {
          "output_type": "execute_result",
          "data": {
            "text/plain": [
              "[1, 2, 3]"
            ]
          },
          "metadata": {},
          "execution_count": 43
        }
      ]
    },
    {
      "cell_type": "markdown",
      "source": [
        "Note que, em L2 fizemos uma cópia rasa de L1. Teremos o seguinte esquema na memória:\n",
        "\n"
      ],
      "metadata": {
        "id": "pb5Ai-THeoCA"
      }
    },
    {
      "cell_type": "markdown",
      "source": [
        "![diagrama_copia_rasa1.jpg](data:image/jpeg;base64,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)"
      ],
      "metadata": {
        "id": "tDeIGRDufzyw"
      }
    },
    {
      "cell_type": "code",
      "source": [
        "L1"
      ],
      "metadata": {
        "colab": {
          "base_uri": "https://localhost:8080/"
        },
        "id": "rmuheu2XfzBq",
        "outputId": "bb6da931-442c-4789-b9fb-07f394b754e0"
      },
      "execution_count": null,
      "outputs": [
        {
          "output_type": "execute_result",
          "data": {
            "text/plain": [
              "[1, 2, 3]"
            ]
          },
          "metadata": {},
          "execution_count": 39
        }
      ]
    },
    {
      "cell_type": "code",
      "source": [
        "L2"
      ],
      "metadata": {
        "colab": {
          "base_uri": "https://localhost:8080/"
        },
        "id": "M8w1zThVgUyP",
        "outputId": "aea4d06d-eea5-4c96-e21f-8b11e61e637f"
      },
      "execution_count": null,
      "outputs": [
        {
          "output_type": "execute_result",
          "data": {
            "text/plain": [
              "[1, 2, 3]"
            ]
          },
          "metadata": {},
          "execution_count": 40
        }
      ]
    },
    {
      "cell_type": "code",
      "source": [
        "L2[0] = 5\n",
        "L2"
      ],
      "metadata": {
        "colab": {
          "base_uri": "https://localhost:8080/"
        },
        "id": "HNvp3qgLgYQN",
        "outputId": "a812c481-60a8-4bee-af42-352192b24d1e"
      },
      "execution_count": null,
      "outputs": [
        {
          "output_type": "execute_result",
          "data": {
            "text/plain": [
              "[5, 2, 3]"
            ]
          },
          "metadata": {},
          "execution_count": 41
        }
      ]
    },
    {
      "cell_type": "code",
      "source": [
        "L1"
      ],
      "metadata": {
        "colab": {
          "base_uri": "https://localhost:8080/"
        },
        "id": "Rfz92SmigdAW",
        "outputId": "544ed689-c761-4f1d-961c-23dbcc4e970e"
      },
      "execution_count": null,
      "outputs": [
        {
          "output_type": "execute_result",
          "data": {
            "text/plain": [
              "[1, 2, 3]"
            ]
          },
          "metadata": {},
          "execution_count": 42
        }
      ]
    },
    {
      "cell_type": "markdown",
      "source": [
        "![diagrama_copia_rasa_alterada.jpg](data:image/jpeg;base64,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)"
      ],
      "metadata": {
        "id": "Ieypy2gYgm-b"
      }
    },
    {
      "cell_type": "markdown",
      "source": [
        "# Cópia profunda\n",
        "\n",
        "A cópia rasa pode não funcionar se a lista sendo copiada tiver objetos mutáveis. Veja o exemplo a seguir:"
      ],
      "metadata": {
        "id": "mqOuMgz5kDvi"
      }
    },
    {
      "cell_type": "code",
      "source": [
        "L3 = [7, [4, 5] ]\n",
        "L4 = L3[:]     #gera copia rasa\n",
        "L4"
      ],
      "metadata": {
        "colab": {
          "base_uri": "https://localhost:8080/"
        },
        "id": "AUHg6zOikH6U",
        "outputId": "d80c771a-176a-43d6-f4ed-d498215f19f1"
      },
      "execution_count": null,
      "outputs": [
        {
          "output_type": "execute_result",
          "data": {
            "text/plain": [
              "[7, [4, 5]]"
            ]
          },
          "metadata": {},
          "execution_count": 44
        }
      ]
    },
    {
      "cell_type": "code",
      "source": [
        "L4 is L3"
      ],
      "metadata": {
        "colab": {
          "base_uri": "https://localhost:8080/"
        },
        "id": "97VOSqcPkpjY",
        "outputId": "682a08dd-1739-4946-b4a8-3143d60e4020"
      },
      "execution_count": null,
      "outputs": [
        {
          "output_type": "execute_result",
          "data": {
            "text/plain": [
              "False"
            ]
          },
          "metadata": {},
          "execution_count": 45
        }
      ]
    },
    {
      "cell_type": "markdown",
      "source": [
        "Na memória, teremos o seguinte esquema\n",
        "\n",
        "![diagrama_copia_rasa2.jpg](data:image/jpeg;base64,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)"
      ],
      "metadata": {
        "id": "sBcrmrtSktWb"
      }
    },
    {
      "cell_type": "code",
      "source": [
        "L4[1][0] = 0\n",
        "L4"
      ],
      "metadata": {
        "colab": {
          "base_uri": "https://localhost:8080/"
        },
        "id": "s1q2nP1SlALs",
        "outputId": "c3ad30fa-81b2-4615-aec3-911e1625a246"
      },
      "execution_count": null,
      "outputs": [
        {
          "output_type": "execute_result",
          "data": {
            "text/plain": [
              "[7, [0, 5]]"
            ]
          },
          "metadata": {},
          "execution_count": 46
        }
      ]
    },
    {
      "cell_type": "code",
      "source": [
        "L3      # a cópia rasa não copia os objetos dentro da lista"
      ],
      "metadata": {
        "colab": {
          "base_uri": "https://localhost:8080/"
        },
        "id": "YRh9ErI0lIIC",
        "outputId": "b38222f5-b74b-4b81-e518-b985f6efecd9"
      },
      "execution_count": null,
      "outputs": [
        {
          "output_type": "execute_result",
          "data": {
            "text/plain": [
              "[7, [0, 5]]"
            ]
          },
          "metadata": {},
          "execution_count": 47
        }
      ]
    },
    {
      "cell_type": "markdown",
      "source": [
        "![diagrama_copia_rasa2_alterada.jpg](data:image/jpeg;base64,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)"
      ],
      "metadata": {
        "id": "s9hinSk9k1Cx"
      }
    },
    {
      "cell_type": "markdown",
      "source": [
        "Nesse tipo de situação, é preciso usar cópia profunda. Para isso, usamos o módulo copy"
      ],
      "metadata": {
        "id": "Rd-Ix7FFlY84"
      }
    },
    {
      "cell_type": "code",
      "source": [
        "import copy\n",
        "\n",
        "L3 = [7, [4, 5]]\n",
        "L4 = copy.deepcopy(L3)    #gera cópia profunda\n",
        "L4"
      ],
      "metadata": {
        "colab": {
          "base_uri": "https://localhost:8080/"
        },
        "id": "ceE8JCn2l4eU",
        "outputId": "fd620c26-a2c5-42a1-fd13-4118a07e06c1"
      },
      "execution_count": null,
      "outputs": [
        {
          "output_type": "execute_result",
          "data": {
            "text/plain": [
              "[7, [4, 5]]"
            ]
          },
          "metadata": {},
          "execution_count": 48
        }
      ]
    },
    {
      "cell_type": "markdown",
      "source": [
        "![diagrama_copia_profunda.jpg](data:image/jpeg;base64,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)"
      ],
      "metadata": {
        "id": "6r3S2lkGmQai"
      }
    },
    {
      "cell_type": "code",
      "source": [
        "L4[1][0] = 0    #altera só a lista em L4\n",
        "L4"
      ],
      "metadata": {
        "colab": {
          "base_uri": "https://localhost:8080/"
        },
        "id": "8TAz6dfUnC7F",
        "outputId": "e6061de4-23cb-42d3-d0d7-7381d7a72af9"
      },
      "execution_count": null,
      "outputs": [
        {
          "output_type": "execute_result",
          "data": {
            "text/plain": [
              "[7, [0, 5]]"
            ]
          },
          "metadata": {},
          "execution_count": 49
        }
      ]
    },
    {
      "cell_type": "code",
      "source": [
        "L3    # L3 está preservado"
      ],
      "metadata": {
        "colab": {
          "base_uri": "https://localhost:8080/"
        },
        "id": "bBlBPYOinGe8",
        "outputId": "0592a216-738b-4bbb-e4f6-04d20a62aa70"
      },
      "execution_count": null,
      "outputs": [
        {
          "output_type": "execute_result",
          "data": {
            "text/plain": [
              "[7, [4, 5]]"
            ]
          },
          "metadata": {},
          "execution_count": 50
        }
      ]
    },
    {
      "cell_type": "markdown",
      "source": [
        "# Métodos de listas\n",
        "\n",
        "Métodos da classe list podem efetivamente alterar os próprios objetos, pois listas são objetos mutáveis."
      ],
      "metadata": {
        "id": "XRP_yrwCnWWa"
      }
    },
    {
      "cell_type": "markdown",
      "source": [
        "* append(x) : anexa x ao final da lista"
      ],
      "metadata": {
        "id": "A-8PIZbxnphf"
      }
    },
    {
      "cell_type": "code",
      "source": [
        "L = [1,2,3]\n",
        "L"
      ],
      "metadata": {
        "colab": {
          "base_uri": "https://localhost:8080/"
        },
        "id": "U7Gs8uJPnpEY",
        "outputId": "fabbb7f9-d4be-499f-a304-bf541d4afae7"
      },
      "execution_count": null,
      "outputs": [
        {
          "output_type": "execute_result",
          "data": {
            "text/plain": [
              "[1, 2, 3]"
            ]
          },
          "metadata": {},
          "execution_count": 55
        }
      ]
    },
    {
      "cell_type": "code",
      "source": [
        "L.append(4)\n",
        "L"
      ],
      "metadata": {
        "colab": {
          "base_uri": "https://localhost:8080/"
        },
        "id": "geiqtDztn0wR",
        "outputId": "b9353eb2-7fbe-4ccc-eeba-20b94ea5937f"
      },
      "execution_count": null,
      "outputs": [
        {
          "output_type": "execute_result",
          "data": {
            "text/plain": [
              "[1, 2, 3, 4]"
            ]
          },
          "metadata": {},
          "execution_count": 56
        }
      ]
    },
    {
      "cell_type": "markdown",
      "source": [
        "O método append altera a própria lista a partir do qual é chamado. ELE NÃO GERA UMA LISTA NOVA!\n",
        "O método append sempre retorna Nada (None), e portanto, não se deve atribuir\n",
        "seu retorno a qualquer variável.\n",
        "\n"
      ],
      "metadata": {
        "id": "5yUzBL19n9tV"
      }
    },
    {
      "cell_type": "code",
      "source": [
        "# ERRO COMUM\n",
        "L = L.append(5)    # O método append não retorna nada!\n",
        "print(L)"
      ],
      "metadata": {
        "colab": {
          "base_uri": "https://localhost:8080/"
        },
        "id": "egac9bvsoG4b",
        "outputId": "fe5997d1-6225-42f0-8306-584641ab5e72"
      },
      "execution_count": null,
      "outputs": [
        {
          "output_type": "stream",
          "name": "stdout",
          "text": [
            "None\n"
          ]
        }
      ]
    },
    {
      "cell_type": "code",
      "source": [
        "type(L)"
      ],
      "metadata": {
        "colab": {
          "base_uri": "https://localhost:8080/"
        },
        "id": "bUGlC2ktov1s",
        "outputId": "b1a32695-0c03-4076-decd-93a88cf57767"
      },
      "execution_count": null,
      "outputs": [
        {
          "output_type": "execute_result",
          "data": {
            "text/plain": [
              "NoneType"
            ]
          },
          "metadata": {},
          "execution_count": 58
        }
      ]
    },
    {
      "cell_type": "markdown",
      "source": [
        "* sort: ordena a lista (no local). Não retorna nada, pois ele altera a própria lista!"
      ],
      "metadata": {
        "id": "itk95z00pOuz"
      }
    },
    {
      "cell_type": "code",
      "source": [
        "vals = [5, 0, -1, 89, 2]\n",
        "vals.sort()\n",
        "vals"
      ],
      "metadata": {
        "colab": {
          "base_uri": "https://localhost:8080/"
        },
        "id": "KAPORhSzpM80",
        "outputId": "d8781ded-490b-49c4-80f7-86d46020d9a2"
      },
      "execution_count": null,
      "outputs": [
        {
          "output_type": "execute_result",
          "data": {
            "text/plain": [
              "[-1, 0, 2, 5, 89]"
            ]
          },
          "metadata": {},
          "execution_count": 59
        }
      ]
    },
    {
      "cell_type": "code",
      "source": [
        "nomes = [\"jessica\", \"beatriz\", \"ana\", \"iracema\", \"Zelia\"]\n",
        "nomes.sort()    # ordena segundo a tabela ASCII (lembre-se que maiúsculo vem antes dos minusculos)\n",
        "nomes"
      ],
      "metadata": {
        "colab": {
          "base_uri": "https://localhost:8080/"
        },
        "id": "oScE5QNspysU",
        "outputId": "5b61d576-472f-4ad5-f977-9254d814fb84"
      },
      "execution_count": null,
      "outputs": [
        {
          "output_type": "execute_result",
          "data": {
            "text/plain": [
              "['Zelia', 'ana', 'beatriz', 'iracema', 'jessica']"
            ]
          },
          "metadata": {},
          "execution_count": 62
        }
      ]
    },
    {
      "cell_type": "code",
      "source": [
        "v = [\"ana\", 6]     # sort não funciona com tipos diferentes em principio\n",
        "v.sort()"
      ],
      "metadata": {
        "colab": {
          "base_uri": "https://localhost:8080/",
          "height": 202
        },
        "id": "bgegVBnvpjcu",
        "outputId": "25b6a0a0-89d0-4b5f-96dd-762e8da6f48f"
      },
      "execution_count": null,
      "outputs": [
        {
          "output_type": "error",
          "ename": "TypeError",
          "evalue": "ignored",
          "traceback": [
            "\u001b[0;31m---------------------------------------------------------------------------\u001b[0m",
            "\u001b[0;31mTypeError\u001b[0m                                 Traceback (most recent call last)",
            "\u001b[0;32m<ipython-input-60-9e25a74600cb>\u001b[0m in \u001b[0;36m<cell line: 2>\u001b[0;34m()\u001b[0m\n\u001b[1;32m      1\u001b[0m \u001b[0mv\u001b[0m \u001b[0;34m=\u001b[0m \u001b[0;34m[\u001b[0m\u001b[0;34m\"ana\"\u001b[0m\u001b[0;34m,\u001b[0m \u001b[0;36m6\u001b[0m\u001b[0;34m]\u001b[0m\u001b[0;34m\u001b[0m\u001b[0;34m\u001b[0m\u001b[0m\n\u001b[0;32m----> 2\u001b[0;31m \u001b[0mv\u001b[0m\u001b[0;34m.\u001b[0m\u001b[0msort\u001b[0m\u001b[0;34m(\u001b[0m\u001b[0;34m)\u001b[0m\u001b[0;34m\u001b[0m\u001b[0;34m\u001b[0m\u001b[0m\n\u001b[0m",
            "\u001b[0;31mTypeError\u001b[0m: '<' not supported between instances of 'int' and 'str'"
          ]
        }
      ]
    },
    {
      "cell_type": "code",
      "source": [
        "help( sorted )"
      ],
      "metadata": {
        "colab": {
          "base_uri": "https://localhost:8080/"
        },
        "id": "6PCI_Y0sqcAg",
        "outputId": "cff26e5b-842b-43ed-e0e8-47a510c56555"
      },
      "execution_count": null,
      "outputs": [
        {
          "output_type": "stream",
          "name": "stdout",
          "text": [
            "Help on built-in function sorted in module builtins:\n",
            "\n",
            "sorted(iterable, /, *, key=None, reverse=False)\n",
            "    Return a new list containing all items from the iterable in ascending order.\n",
            "    \n",
            "    A custom key function can be supplied to customize the sort order, and the\n",
            "    reverse flag can be set to request the result in descending order.\n",
            "\n"
          ]
        }
      ]
    },
    {
      "cell_type": "code",
      "source": [
        "[7, 2, 5] < [3, 4]"
      ],
      "metadata": {
        "id": "Khb4f-gCrtbC"
      },
      "execution_count": null,
      "outputs": []
    },
    {
      "cell_type": "markdown",
      "source": [],
      "metadata": {
        "id": "mJ36GiayoFsT"
      }
    }
  ]
}