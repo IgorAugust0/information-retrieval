{
  "nbformat": 4,
  "nbformat_minor": 0,
  "metadata": {
    "colab": {
      "provenance": []
    },
    "kernelspec": {
      "name": "python3",
      "display_name": "Python 3"
    },
    "language_info": {
      "name": "python"
    }
  },
  "cells": [
    {
      "cell_type": "markdown",
      "source": [
        "#Spacy\n",
        "\n",
        "Biblioteca para processamento de língua natural. Spacy tem recursos para PLN mais avançados que NLTK\n",
        "\n",
        "Para a instalação, algum dos comandos abaixo deve funcionar:\n",
        "\n",
        "* pip install -U spacy\n",
        "* pip3 install -U spacy\n",
        "* python -m pip install -U spacy\n",
        "* python3 -m pip install -U spacy\n",
        "* py -m pip install -U spacy"
      ],
      "metadata": {
        "id": "wxL2VqxUiI8I"
      }
    },
    {
      "cell_type": "code",
      "source": [
        "!pip install -U spacy"
      ],
      "metadata": {
        "colab": {
          "base_uri": "https://localhost:8080/"
        },
        "id": "-H-r4VmGr5wG",
        "outputId": "1b4d6871-b21f-4329-d569-30ad5b39d5d8"
      },
      "execution_count": null,
      "outputs": [
        {
          "output_type": "stream",
          "name": "stdout",
          "text": [
            "Requirement already satisfied: spacy in /usr/local/lib/python3.10/dist-packages (3.6.1)\n",
            "Collecting spacy\n",
            "  Downloading spacy-3.7.2-cp310-cp310-manylinux_2_17_x86_64.manylinux2014_x86_64.whl (6.6 MB)\n",
            "\u001b[2K     \u001b[90m━━━━━━━━━━━━━━━━━━━━━━━━━━━━━━━━━━━━━━━━\u001b[0m \u001b[32m6.6/6.6 MB\u001b[0m \u001b[31m18.2 MB/s\u001b[0m eta \u001b[36m0:00:00\u001b[0m\n",
            "\u001b[?25hRequirement already satisfied: spacy-legacy<3.1.0,>=3.0.11 in /usr/local/lib/python3.10/dist-packages (from spacy) (3.0.12)\n",
            "Requirement already satisfied: spacy-loggers<2.0.0,>=1.0.0 in /usr/local/lib/python3.10/dist-packages (from spacy) (1.0.5)\n",
            "Requirement already satisfied: murmurhash<1.1.0,>=0.28.0 in /usr/local/lib/python3.10/dist-packages (from spacy) (1.0.10)\n",
            "Requirement already satisfied: cymem<2.1.0,>=2.0.2 in /usr/local/lib/python3.10/dist-packages (from spacy) (2.0.8)\n",
            "Requirement already satisfied: preshed<3.1.0,>=3.0.2 in /usr/local/lib/python3.10/dist-packages (from spacy) (3.0.9)\n",
            "Requirement already satisfied: thinc<8.3.0,>=8.1.8 in /usr/local/lib/python3.10/dist-packages (from spacy) (8.1.12)\n",
            "Requirement already satisfied: wasabi<1.2.0,>=0.9.1 in /usr/local/lib/python3.10/dist-packages (from spacy) (1.1.2)\n",
            "Requirement already satisfied: srsly<3.0.0,>=2.4.3 in /usr/local/lib/python3.10/dist-packages (from spacy) (2.4.8)\n",
            "Requirement already satisfied: catalogue<2.1.0,>=2.0.6 in /usr/local/lib/python3.10/dist-packages (from spacy) (2.0.10)\n",
            "Collecting weasel<0.4.0,>=0.1.0 (from spacy)\n",
            "  Downloading weasel-0.3.3-py3-none-any.whl (49 kB)\n",
            "\u001b[2K     \u001b[90m━━━━━━━━━━━━━━━━━━━━━━━━━━━━━━━━━━━━━━━━\u001b[0m \u001b[32m49.8/49.8 kB\u001b[0m \u001b[31m6.1 MB/s\u001b[0m eta \u001b[36m0:00:00\u001b[0m\n",
            "\u001b[?25hRequirement already satisfied: typer<0.10.0,>=0.3.0 in /usr/local/lib/python3.10/dist-packages (from spacy) (0.9.0)\n",
            "Requirement already satisfied: smart-open<7.0.0,>=5.2.1 in /usr/local/lib/python3.10/dist-packages (from spacy) (6.4.0)\n",
            "Requirement already satisfied: tqdm<5.0.0,>=4.38.0 in /usr/local/lib/python3.10/dist-packages (from spacy) (4.66.1)\n",
            "Requirement already satisfied: requests<3.0.0,>=2.13.0 in /usr/local/lib/python3.10/dist-packages (from spacy) (2.31.0)\n",
            "Requirement already satisfied: pydantic!=1.8,!=1.8.1,<3.0.0,>=1.7.4 in /usr/local/lib/python3.10/dist-packages (from spacy) (1.10.13)\n",
            "Requirement already satisfied: jinja2 in /usr/local/lib/python3.10/dist-packages (from spacy) (3.1.2)\n",
            "Requirement already satisfied: setuptools in /usr/local/lib/python3.10/dist-packages (from spacy) (67.7.2)\n",
            "Requirement already satisfied: packaging>=20.0 in /usr/local/lib/python3.10/dist-packages (from spacy) (23.2)\n",
            "Requirement already satisfied: langcodes<4.0.0,>=3.2.0 in /usr/local/lib/python3.10/dist-packages (from spacy) (3.3.0)\n",
            "Requirement already satisfied: numpy>=1.19.0 in /usr/local/lib/python3.10/dist-packages (from spacy) (1.23.5)\n",
            "Requirement already satisfied: typing-extensions>=4.2.0 in /usr/local/lib/python3.10/dist-packages (from pydantic!=1.8,!=1.8.1,<3.0.0,>=1.7.4->spacy) (4.5.0)\n",
            "Requirement already satisfied: charset-normalizer<4,>=2 in /usr/local/lib/python3.10/dist-packages (from requests<3.0.0,>=2.13.0->spacy) (3.3.0)\n",
            "Requirement already satisfied: idna<4,>=2.5 in /usr/local/lib/python3.10/dist-packages (from requests<3.0.0,>=2.13.0->spacy) (3.4)\n",
            "Requirement already satisfied: urllib3<3,>=1.21.1 in /usr/local/lib/python3.10/dist-packages (from requests<3.0.0,>=2.13.0->spacy) (2.0.6)\n",
            "Requirement already satisfied: certifi>=2017.4.17 in /usr/local/lib/python3.10/dist-packages (from requests<3.0.0,>=2.13.0->spacy) (2023.7.22)\n",
            "Requirement already satisfied: blis<0.8.0,>=0.7.8 in /usr/local/lib/python3.10/dist-packages (from thinc<8.3.0,>=8.1.8->spacy) (0.7.11)\n",
            "Requirement already satisfied: confection<1.0.0,>=0.0.1 in /usr/local/lib/python3.10/dist-packages (from thinc<8.3.0,>=8.1.8->spacy) (0.1.3)\n",
            "Requirement already satisfied: click<9.0.0,>=7.1.1 in /usr/local/lib/python3.10/dist-packages (from typer<0.10.0,>=0.3.0->spacy) (8.1.7)\n",
            "Collecting cloudpathlib<0.17.0,>=0.7.0 (from weasel<0.4.0,>=0.1.0->spacy)\n",
            "  Downloading cloudpathlib-0.16.0-py3-none-any.whl (45 kB)\n",
            "\u001b[2K     \u001b[90m━━━━━━━━━━━━━━━━━━━━━━━━━━━━━━━━━━━━━━━━\u001b[0m \u001b[32m45.0/45.0 kB\u001b[0m \u001b[31m5.8 MB/s\u001b[0m eta \u001b[36m0:00:00\u001b[0m\n",
            "\u001b[?25hRequirement already satisfied: MarkupSafe>=2.0 in /usr/local/lib/python3.10/dist-packages (from jinja2->spacy) (2.1.3)\n",
            "Installing collected packages: cloudpathlib, weasel, spacy\n",
            "  Attempting uninstall: spacy\n",
            "    Found existing installation: spacy 3.6.1\n",
            "    Uninstalling spacy-3.6.1:\n",
            "      Successfully uninstalled spacy-3.6.1\n",
            "\u001b[31mERROR: pip's dependency resolver does not currently take into account all the packages that are installed. This behaviour is the source of the following dependency conflicts.\n",
            "en-core-web-sm 3.6.0 requires spacy<3.7.0,>=3.6.0, but you have spacy 3.7.2 which is incompatible.\u001b[0m\u001b[31m\n",
            "\u001b[0mSuccessfully installed cloudpathlib-0.16.0 spacy-3.7.2 weasel-0.3.3\n"
          ]
        }
      ]
    },
    {
      "cell_type": "markdown",
      "source": [
        "**Instalando pacotes complementares**"
      ],
      "metadata": {
        "id": "0tkBuTGssUGF"
      }
    },
    {
      "cell_type": "code",
      "source": [
        "!pip install -U spacy-lookups-data"
      ],
      "metadata": {
        "colab": {
          "base_uri": "https://localhost:8080/"
        },
        "id": "rANqVSWosad0",
        "outputId": "875cc462-c872-4553-f7ae-2d40826f33b1"
      },
      "execution_count": null,
      "outputs": [
        {
          "output_type": "stream",
          "name": "stdout",
          "text": [
            "Collecting spacy-lookups-data\n",
            "  Downloading spacy_lookups_data-1.0.5-py2.py3-none-any.whl (98.5 MB)\n",
            "\u001b[2K     \u001b[90m━━━━━━━━━━━━━━━━━━━━━━━━━━━━━━━━━━━━━━━━\u001b[0m \u001b[32m98.5/98.5 MB\u001b[0m \u001b[31m7.9 MB/s\u001b[0m eta \u001b[36m0:00:00\u001b[0m\n",
            "\u001b[?25hRequirement already satisfied: setuptools in /usr/local/lib/python3.10/dist-packages (from spacy-lookups-data) (67.7.2)\n",
            "Installing collected packages: spacy-lookups-data\n",
            "Successfully installed spacy-lookups-data-1.0.5\n"
          ]
        }
      ]
    },
    {
      "cell_type": "markdown",
      "source": [
        "Intalando o modelo para processamento em língua portuguesa."
      ],
      "metadata": {
        "id": "D7lWcdpOs1jx"
      }
    },
    {
      "cell_type": "code",
      "source": [
        "!python -m spacy download pt_core_news_lg"
      ],
      "metadata": {
        "colab": {
          "base_uri": "https://localhost:8080/"
        },
        "id": "B51j628Uspxd",
        "outputId": "c470fa83-9be0-494d-8a2d-783fdcc707f8"
      },
      "execution_count": null,
      "outputs": [
        {
          "output_type": "stream",
          "name": "stdout",
          "text": [
            "2023-10-17 22:13:22.915895: I tensorflow/core/platform/cpu_feature_guard.cc:182] This TensorFlow binary is optimized to use available CPU instructions in performance-critical operations.\n",
            "To enable the following instructions: AVX2 FMA, in other operations, rebuild TensorFlow with the appropriate compiler flags.\n",
            "2023-10-17 22:13:24.199430: W tensorflow/compiler/tf2tensorrt/utils/py_utils.cc:38] TF-TRT Warning: Could not find TensorRT\n",
            "Collecting pt-core-news-lg==3.7.0\n",
            "  Downloading https://github.com/explosion/spacy-models/releases/download/pt_core_news_lg-3.7.0/pt_core_news_lg-3.7.0-py3-none-any.whl (568.2 MB)\n",
            "\u001b[2K     \u001b[90m━━━━━━━━━━━━━━━━━━━━━━━━━━━━━━━━━━━━━━━━\u001b[0m \u001b[32m568.2/568.2 MB\u001b[0m \u001b[31m2.0 MB/s\u001b[0m eta \u001b[36m0:00:00\u001b[0m\n",
            "\u001b[?25hRequirement already satisfied: spacy<3.8.0,>=3.7.0 in /usr/local/lib/python3.10/dist-packages (from pt-core-news-lg==3.7.0) (3.7.2)\n",
            "Requirement already satisfied: spacy-legacy<3.1.0,>=3.0.11 in /usr/local/lib/python3.10/dist-packages (from spacy<3.8.0,>=3.7.0->pt-core-news-lg==3.7.0) (3.0.12)\n",
            "Requirement already satisfied: spacy-loggers<2.0.0,>=1.0.0 in /usr/local/lib/python3.10/dist-packages (from spacy<3.8.0,>=3.7.0->pt-core-news-lg==3.7.0) (1.0.5)\n",
            "Requirement already satisfied: murmurhash<1.1.0,>=0.28.0 in /usr/local/lib/python3.10/dist-packages (from spacy<3.8.0,>=3.7.0->pt-core-news-lg==3.7.0) (1.0.10)\n",
            "Requirement already satisfied: cymem<2.1.0,>=2.0.2 in /usr/local/lib/python3.10/dist-packages (from spacy<3.8.0,>=3.7.0->pt-core-news-lg==3.7.0) (2.0.8)\n",
            "Requirement already satisfied: preshed<3.1.0,>=3.0.2 in /usr/local/lib/python3.10/dist-packages (from spacy<3.8.0,>=3.7.0->pt-core-news-lg==3.7.0) (3.0.9)\n",
            "Requirement already satisfied: thinc<8.3.0,>=8.1.8 in /usr/local/lib/python3.10/dist-packages (from spacy<3.8.0,>=3.7.0->pt-core-news-lg==3.7.0) (8.1.12)\n",
            "Requirement already satisfied: wasabi<1.2.0,>=0.9.1 in /usr/local/lib/python3.10/dist-packages (from spacy<3.8.0,>=3.7.0->pt-core-news-lg==3.7.0) (1.1.2)\n",
            "Requirement already satisfied: srsly<3.0.0,>=2.4.3 in /usr/local/lib/python3.10/dist-packages (from spacy<3.8.0,>=3.7.0->pt-core-news-lg==3.7.0) (2.4.8)\n",
            "Requirement already satisfied: catalogue<2.1.0,>=2.0.6 in /usr/local/lib/python3.10/dist-packages (from spacy<3.8.0,>=3.7.0->pt-core-news-lg==3.7.0) (2.0.10)\n",
            "Requirement already satisfied: weasel<0.4.0,>=0.1.0 in /usr/local/lib/python3.10/dist-packages (from spacy<3.8.0,>=3.7.0->pt-core-news-lg==3.7.0) (0.3.3)\n",
            "Requirement already satisfied: typer<0.10.0,>=0.3.0 in /usr/local/lib/python3.10/dist-packages (from spacy<3.8.0,>=3.7.0->pt-core-news-lg==3.7.0) (0.9.0)\n",
            "Requirement already satisfied: smart-open<7.0.0,>=5.2.1 in /usr/local/lib/python3.10/dist-packages (from spacy<3.8.0,>=3.7.0->pt-core-news-lg==3.7.0) (6.4.0)\n",
            "Requirement already satisfied: tqdm<5.0.0,>=4.38.0 in /usr/local/lib/python3.10/dist-packages (from spacy<3.8.0,>=3.7.0->pt-core-news-lg==3.7.0) (4.66.1)\n",
            "Requirement already satisfied: requests<3.0.0,>=2.13.0 in /usr/local/lib/python3.10/dist-packages (from spacy<3.8.0,>=3.7.0->pt-core-news-lg==3.7.0) (2.31.0)\n",
            "Requirement already satisfied: pydantic!=1.8,!=1.8.1,<3.0.0,>=1.7.4 in /usr/local/lib/python3.10/dist-packages (from spacy<3.8.0,>=3.7.0->pt-core-news-lg==3.7.0) (1.10.13)\n",
            "Requirement already satisfied: jinja2 in /usr/local/lib/python3.10/dist-packages (from spacy<3.8.0,>=3.7.0->pt-core-news-lg==3.7.0) (3.1.2)\n",
            "Requirement already satisfied: setuptools in /usr/local/lib/python3.10/dist-packages (from spacy<3.8.0,>=3.7.0->pt-core-news-lg==3.7.0) (67.7.2)\n",
            "Requirement already satisfied: packaging>=20.0 in /usr/local/lib/python3.10/dist-packages (from spacy<3.8.0,>=3.7.0->pt-core-news-lg==3.7.0) (23.2)\n",
            "Requirement already satisfied: langcodes<4.0.0,>=3.2.0 in /usr/local/lib/python3.10/dist-packages (from spacy<3.8.0,>=3.7.0->pt-core-news-lg==3.7.0) (3.3.0)\n",
            "Requirement already satisfied: numpy>=1.19.0 in /usr/local/lib/python3.10/dist-packages (from spacy<3.8.0,>=3.7.0->pt-core-news-lg==3.7.0) (1.23.5)\n",
            "Requirement already satisfied: typing-extensions>=4.2.0 in /usr/local/lib/python3.10/dist-packages (from pydantic!=1.8,!=1.8.1,<3.0.0,>=1.7.4->spacy<3.8.0,>=3.7.0->pt-core-news-lg==3.7.0) (4.5.0)\n",
            "Requirement already satisfied: charset-normalizer<4,>=2 in /usr/local/lib/python3.10/dist-packages (from requests<3.0.0,>=2.13.0->spacy<3.8.0,>=3.7.0->pt-core-news-lg==3.7.0) (3.3.0)\n",
            "Requirement already satisfied: idna<4,>=2.5 in /usr/local/lib/python3.10/dist-packages (from requests<3.0.0,>=2.13.0->spacy<3.8.0,>=3.7.0->pt-core-news-lg==3.7.0) (3.4)\n",
            "Requirement already satisfied: urllib3<3,>=1.21.1 in /usr/local/lib/python3.10/dist-packages (from requests<3.0.0,>=2.13.0->spacy<3.8.0,>=3.7.0->pt-core-news-lg==3.7.0) (2.0.6)\n",
            "Requirement already satisfied: certifi>=2017.4.17 in /usr/local/lib/python3.10/dist-packages (from requests<3.0.0,>=2.13.0->spacy<3.8.0,>=3.7.0->pt-core-news-lg==3.7.0) (2023.7.22)\n",
            "Requirement already satisfied: blis<0.8.0,>=0.7.8 in /usr/local/lib/python3.10/dist-packages (from thinc<8.3.0,>=8.1.8->spacy<3.8.0,>=3.7.0->pt-core-news-lg==3.7.0) (0.7.11)\n",
            "Requirement already satisfied: confection<1.0.0,>=0.0.1 in /usr/local/lib/python3.10/dist-packages (from thinc<8.3.0,>=8.1.8->spacy<3.8.0,>=3.7.0->pt-core-news-lg==3.7.0) (0.1.3)\n",
            "Requirement already satisfied: click<9.0.0,>=7.1.1 in /usr/local/lib/python3.10/dist-packages (from typer<0.10.0,>=0.3.0->spacy<3.8.0,>=3.7.0->pt-core-news-lg==3.7.0) (8.1.7)\n",
            "Requirement already satisfied: cloudpathlib<0.17.0,>=0.7.0 in /usr/local/lib/python3.10/dist-packages (from weasel<0.4.0,>=0.1.0->spacy<3.8.0,>=3.7.0->pt-core-news-lg==3.7.0) (0.16.0)\n",
            "Requirement already satisfied: MarkupSafe>=2.0 in /usr/local/lib/python3.10/dist-packages (from jinja2->spacy<3.8.0,>=3.7.0->pt-core-news-lg==3.7.0) (2.1.3)\n",
            "Installing collected packages: pt-core-news-lg\n",
            "Successfully installed pt-core-news-lg-3.7.0\n",
            "\u001b[38;5;2m✔ Download and installation successful\u001b[0m\n",
            "You can now load the package via spacy.load('pt_core_news_lg')\n"
          ]
        }
      ]
    },
    {
      "cell_type": "markdown",
      "source": [
        "# Objetos doc e token\n",
        "\n",
        "Para realizar PLN com Spacy, temos duas classes principais:\n",
        "\n",
        "* Doc: representa um documento, mas especificamente, uma sequência de Tokens\n",
        "* Token: uma porção de texto que pode ser uma palavra, pontuação, numerais, um sentença, um parágrafo, etc"
      ],
      "metadata": {
        "id": "AXUX32GviaVF"
      }
    },
    {
      "cell_type": "code",
      "execution_count": null,
      "metadata": {
        "id": "Xx7227GkiArN",
        "colab": {
          "base_uri": "https://localhost:8080/"
        },
        "outputId": "5f4cb7a1-e1be-4b71-f0a2-b16c5817da29"
      },
      "outputs": [
        {
          "output_type": "stream",
          "name": "stdout",
          "text": [
            "\n",
            "Simone Biles e Rebeca Andrade ficaram lado a lado para receber suas medalhas. Pela primeira vez as duas estrelas da ginástica artística dividiram um pódio em uma prova individual. Nesta sexta-feira, a americana retomou o posto de número 1 do mundo e conquistou o hexa do individual geral no Mundial da Antuérpia. Campeã no ano passado, a brasileira também brilhou com a prata. A americana Shilese Jones completou o primeiro pódio 100% de mulheres pretas da prova mais nobre de um Mundial. Flávia Saraiva acabou na 15ª posição depois de ter sofrido duas quedas.\n",
            "\n"
          ]
        }
      ],
      "source": [
        "# Gerando um objeto Doc\n",
        "import spacy\n",
        "\n",
        "#definindo um texto para ser analisado\n",
        "# https://ge.globo.com/ginastica-artistica/noticia/2023/10/06/rebeca-andrade-e-prata-e-simone-biles-fatura-o-hexa-no-mundial.ghtml\n",
        "texto = \"\"\"\n",
        "Simone Biles e Rebeca Andrade ficaram lado a lado para receber suas medalhas. Pela primeira vez as duas estrelas da ginástica artística dividiram um pódio em uma prova individual. Nesta sexta-feira, a americana retomou o posto de número 1 do mundo e conquistou o hexa do individual geral no Mundial da Antuérpia. Campeã no ano passado, a brasileira também brilhou com a prata. A americana Shilese Jones completou o primeiro pódio 100% de mulheres pretas da prova mais nobre de um Mundial. Flávia Saraiva acabou na 15ª posição depois de ter sofrido duas quedas.\n",
        "\"\"\"\n",
        "\n",
        "#carregando o modelo em língua portuguesa\n",
        "nlp = spacy.load(\"pt_core_news_lg\")\n",
        "\n",
        "#usando o modelo para analisar o texto\n",
        "doc = nlp(texto)\n",
        "\n",
        "print(doc)\n"
      ]
    },
    {
      "cell_type": "code",
      "source": [
        "type(doc)"
      ],
      "metadata": {
        "colab": {
          "base_uri": "https://localhost:8080/"
        },
        "id": "5Q4myedhuLNW",
        "outputId": "c1aaa9e1-2022-4b81-bff9-624c0e6dea9b"
      },
      "execution_count": null,
      "outputs": [
        {
          "output_type": "execute_result",
          "data": {
            "text/plain": [
              "spacy.tokens.doc.Doc"
            ]
          },
          "metadata": {},
          "execution_count": 6
        }
      ]
    },
    {
      "cell_type": "markdown",
      "source": [
        "Há ainda a classe Span, que é uma fatia ou uma porção do Doc"
      ],
      "metadata": {
        "id": "zOWrjBM1uYN_"
      }
    },
    {
      "cell_type": "code",
      "source": [
        "doc[0:20]   #retorna um objeto span com os 20 primeros tokens de doc"
      ],
      "metadata": {
        "colab": {
          "base_uri": "https://localhost:8080/"
        },
        "id": "KnWTChSGuiEv",
        "outputId": "38bd76ca-700b-4210-9546-77a924749272"
      },
      "execution_count": null,
      "outputs": [
        {
          "output_type": "execute_result",
          "data": {
            "text/plain": [
              "\n",
              "Simone Biles e Rebeca Andrade ficaram lado a lado para receber suas medalhas. Pela primeira vez as duas"
            ]
          },
          "metadata": {},
          "execution_count": 7
        }
      ]
    },
    {
      "cell_type": "markdown",
      "source": [
        "Podemos consultar a documentação da classe Doc para visualizar métodos e atributos\n",
        "\n",
        "https://spacy.io/api/doc\n",
        "\n",
        "Alguns atributos dependem de funcionalidades especiais presentes no modelo de texto utilizado. Nem todos os modelos e texto têm todas as funcionalidades."
      ],
      "metadata": {
        "id": "rv3YPjeGu941"
      }
    },
    {
      "cell_type": "code",
      "source": [
        "#o atributo ents retorna as entidades nomeadas presentes no texto\n",
        "doc.ents"
      ],
      "metadata": {
        "colab": {
          "base_uri": "https://localhost:8080/"
        },
        "id": "-UhA_x3MwDgg",
        "outputId": "971a7cb7-e773-4c6b-c081-07e04499277b"
      },
      "execution_count": null,
      "outputs": [
        {
          "output_type": "execute_result",
          "data": {
            "text/plain": [
              "(Simone Biles,\n",
              " Rebeca Andrade,\n",
              " Mundial,\n",
              " Antuérpia,\n",
              " Shilese Jones,\n",
              " Mundial,\n",
              " Flávia Saraiva)"
            ]
          },
          "metadata": {},
          "execution_count": 8
        }
      ]
    },
    {
      "cell_type": "code",
      "source": [
        "#o atributo ents também apresenta detahes das entidades nomeadas, com os atributos label, e label_\n",
        "entidades_detalhes = [ (ent, ent.label_ ) for ent in doc.ents ]\n",
        "print( entidades_detalhes )"
      ],
      "metadata": {
        "colab": {
          "base_uri": "https://localhost:8080/"
        },
        "id": "jVDz817gwqV2",
        "outputId": "fab2741a-4596-441a-88c8-243450955165"
      },
      "execution_count": null,
      "outputs": [
        {
          "output_type": "stream",
          "name": "stdout",
          "text": [
            "[(Simone Biles, 'PER'), (Rebeca Andrade, 'PER'), (Mundial, 'MISC'), (Antuérpia, 'LOC'), (Shilese Jones, 'PER'), (Mundial, 'MISC'), (Flávia Saraiva, 'PER')]\n"
          ]
        }
      ]
    },
    {
      "cell_type": "code",
      "source": [
        "#o atributo sents apresenta as sentenças (frases) do documento\n",
        "list( doc.sents )"
      ],
      "metadata": {
        "colab": {
          "base_uri": "https://localhost:8080/"
        },
        "id": "3HmzXMDVxqhP",
        "outputId": "6bc9ffb3-e12a-4496-d92a-2e5d4046f521"
      },
      "execution_count": null,
      "outputs": [
        {
          "output_type": "execute_result",
          "data": {
            "text/plain": [
              "[,\n",
              " Simone Biles e Rebeca Andrade ficaram lado a lado para receber suas medalhas.,\n",
              " Pela primeira vez as duas estrelas da ginástica artística dividiram um pódio em uma prova individual.,\n",
              " Nesta sexta-feira, a americana retomou o posto de número 1 do mundo e conquistou o hexa do individual geral no Mundial da Antuérpia.,\n",
              " Campeã no ano passado, a brasileira também brilhou com a prata.,\n",
              " A americana Shilese Jones completou o primeiro pódio 100% de mulheres pretas da prova mais nobre de um Mundial.,\n",
              " Flávia Saraiva acabou na 15ª posição depois de ter sofrido duas quedas.]"
            ]
          },
          "metadata": {},
          "execution_count": 11
        }
      ]
    },
    {
      "cell_type": "code",
      "source": [
        "#o atributo lang retorna a lingua do texto\n",
        "doc.lang_"
      ],
      "metadata": {
        "colab": {
          "base_uri": "https://localhost:8080/",
          "height": 35
        },
        "id": "t6nwWOnKySqW",
        "outputId": "befcf3ba-72e6-47e0-8fbc-f06ff1c7e235"
      },
      "execution_count": null,
      "outputs": [
        {
          "output_type": "execute_result",
          "data": {
            "text/plain": [
              "'pt'"
            ],
            "application/vnd.google.colaboratory.intrinsic+json": {
              "type": "string"
            }
          },
          "metadata": {},
          "execution_count": 12
        }
      ]
    },
    {
      "cell_type": "code",
      "source": [
        "#o atributo sentiment armazena um grau de sentimento para o documento, se disponível\n",
        "doc.sentiment"
      ],
      "metadata": {
        "colab": {
          "base_uri": "https://localhost:8080/"
        },
        "id": "zAT1iC_ty10e",
        "outputId": "9dad394f-4cb7-4830-fbd3-41b37781cbba"
      },
      "execution_count": null,
      "outputs": [
        {
          "output_type": "execute_result",
          "data": {
            "text/plain": [
              "0.0"
            ]
          },
          "metadata": {},
          "execution_count": 13
        }
      ]
    },
    {
      "cell_type": "code",
      "source": [
        "#vetor de representação do documento\n",
        "doc.vector"
      ],
      "metadata": {
        "colab": {
          "base_uri": "https://localhost:8080/"
        },
        "id": "FxFLdtomzOMY",
        "outputId": "aa12ec4e-007a-48f6-b388-10e42f20d1e5"
      },
      "execution_count": null,
      "outputs": [
        {
          "output_type": "execute_result",
          "data": {
            "text/plain": [
              "array([ 0.4693605 , -0.8027711 , -0.56262666,  0.36090714, -0.48469603,\n",
              "       -1.8014786 , -1.0801973 , -0.96768856, -0.8259904 ,  0.03884275,\n",
              "        0.49019158, -1.3977762 ,  0.70935416,  0.28648403, -1.0941178 ,\n",
              "        0.01684613,  0.6939842 ,  0.47075516,  0.38444185,  1.6011305 ,\n",
              "       -0.3288438 , -0.1829595 ,  0.39256364,  0.7251268 ,  0.6649473 ,\n",
              "        0.581832  , -0.44612035,  1.1405334 ,  0.9591706 , -0.38992754,\n",
              "       -1.136515  ,  0.71043867, -1.5257897 , -1.3556129 ,  0.44332188,\n",
              "       -0.6705149 , -0.17089626, -0.24778257,  0.3981945 , -0.14261428,\n",
              "       -0.28181407,  1.5921565 ,  0.48175856, -0.92045945, -1.4314893 ,\n",
              "       -1.2345809 , -0.5699883 , -0.96393484,  0.992381  ,  0.34676215,\n",
              "        0.8973116 , -0.34482962, -0.29426113, -0.71519226, -0.17474087,\n",
              "        0.12066381,  0.5445125 , -1.1794138 , -0.12419543, -0.05813891,\n",
              "        0.6521528 ,  1.5791113 ,  0.6013382 ,  0.328603  , -1.3005675 ,\n",
              "        0.76094115, -0.19923942,  0.11667618, -0.5228849 , -0.6608343 ,\n",
              "       -0.71260935, -0.925027  ,  0.2706251 ,  0.15116784,  0.1271304 ,\n",
              "        0.05922172,  1.0005518 ,  1.5786389 ,  0.5462494 ,  0.5520218 ,\n",
              "        0.0482786 , -0.22638938,  0.39569658,  0.567533  ,  0.47895864,\n",
              "       -1.1468902 , -0.26708192, -0.2109811 ,  0.42774925, -0.21239364,\n",
              "        0.21709526,  1.0976746 , -0.05956498,  0.10371301, -0.29919603,\n",
              "        0.11011546,  1.57694   , -0.09190915, -1.0409182 ,  0.40805465,\n",
              "        0.2346598 ,  0.5144629 , -1.6919726 ,  0.37136498, -0.04234541,\n",
              "       -0.73153424, -1.3005601 ,  0.9621906 , -0.1765323 ,  0.13336976,\n",
              "        0.7498697 ,  0.30355695, -0.321983  ,  0.7612465 , -1.3729934 ,\n",
              "        0.6658214 ,  0.6427834 , -0.38966936, -0.3452848 ,  0.90726537,\n",
              "        0.04134031, -0.7458422 , -0.3334414 , -0.8041929 , -0.32044372,\n",
              "        0.4749336 ,  0.6034526 ,  0.152147  , -0.066201  , -0.13991298,\n",
              "        0.18852285, -0.00981972,  0.36142185, -0.9470967 ,  0.52525747,\n",
              "        0.35449466,  0.28132126, -0.48449704, -0.20003535,  0.68115646,\n",
              "       -1.2752703 , -0.32135805, -0.39427298, -0.5330634 , -1.3884727 ,\n",
              "       -0.06206268,  1.2899606 ,  0.7533111 , -1.0109013 , -0.3347729 ,\n",
              "        0.2726597 , -0.66083086, -0.27381966, -0.31822604,  0.26469418,\n",
              "       -0.3116927 , -1.1026709 , -1.748323  ,  0.6005129 , -0.48597938,\n",
              "       -0.38687745,  0.06011504,  0.27246827,  1.5230508 ,  0.48900545,\n",
              "        0.53853065, -0.04903348, -1.1182468 ,  0.6076447 , -0.9056075 ,\n",
              "        1.5471706 , -0.09419085,  1.9661348 ,  0.663135  , -0.2563583 ,\n",
              "       -0.16557153,  1.4417161 ,  0.50972396, -0.577595  ,  0.60892224,\n",
              "        0.96704423,  0.5348571 , -0.5411492 ,  2.0590177 ,  1.7883114 ,\n",
              "       -0.71372426,  1.3794006 , -0.5465536 ,  0.59984654,  1.5534176 ,\n",
              "       -0.8010611 , -0.27755848, -0.26325715, -1.4347966 ,  1.2613199 ,\n",
              "        0.01622257, -0.2567737 ,  0.40942696, -0.3760334 , -0.58270395,\n",
              "       -1.7446307 ,  1.5711749 ,  0.49413747,  0.56206954, -0.6812934 ,\n",
              "        0.04360555, -0.21062003, -0.689454  ,  0.4299073 , -1.214321  ,\n",
              "       -0.2585215 , -0.7852269 ,  1.2399737 ,  0.551947  , -0.92915267,\n",
              "       -0.35014647, -0.12155323, -0.13082284,  0.32474768, -0.6063485 ,\n",
              "       -0.6330228 , -0.87790924,  0.5891005 , -0.7533683 , -0.39459798,\n",
              "       -0.864742  , -0.08998362, -0.23784603,  0.360918  , -0.26478964,\n",
              "       -1.1382929 , -0.1952513 ,  0.09615078, -1.1368643 ,  0.325701  ,\n",
              "       -0.36268315, -0.05568015,  0.10951118, -0.09946441, -0.05929814,\n",
              "        0.00616146,  0.4549088 , -0.8550266 , -0.06903198,  0.7860228 ,\n",
              "       -1.8338572 ,  1.1772966 ,  1.219402  ,  1.2902625 , -0.03066276,\n",
              "       -0.56465757,  1.0737084 ,  0.03493258,  0.10496885,  0.18425031,\n",
              "        0.06170242, -1.2872055 ,  1.36509   ,  0.14210321, -1.2503393 ,\n",
              "       -1.0590793 , -0.01593829,  1.2775781 ,  0.21593718,  0.01230026,\n",
              "        0.5444736 , -0.17152527, -0.00514857,  1.1016871 , -0.26588336,\n",
              "        1.3997138 ,  0.02125379, -0.3404747 ,  0.8493563 , -1.2148786 ,\n",
              "        0.9556872 ,  1.5341678 ,  0.68604285,  0.14972855, -1.3157421 ,\n",
              "       -0.6892414 , -0.41013604,  1.7395774 , -1.0169275 ,  0.39918718,\n",
              "        0.91917986, -0.31472778, -1.0400262 ,  0.02281174,  0.7207996 ,\n",
              "       -0.46141428,  1.9285153 , -0.5196112 , -1.5793104 ,  1.0107938 ,\n",
              "       -1.0496475 ,  0.52792495, -1.3716028 ,  0.6123491 ,  1.084164  ],\n",
              "      dtype=float32)"
            ]
          },
          "metadata": {},
          "execution_count": 14
        }
      ]
    },
    {
      "cell_type": "markdown",
      "source": [
        "# Similaridade entre documentos\n",
        "\n",
        "Podemos calcular um grau de similaridade entre dois documentos com o método similarity\n",
        "\n",
        "Vamos calcular a similaridade entre o primeiro parágrafo das duas notícias abaixo:\n",
        "\n",
        "* https://ge.globo.com/ginastica-artistica/noticia/2023/10/06/rebeca-andrade-e-prata-e-simone-biles-fatura-o-hexa-no-mundial.ghtml\n",
        "* https://www.uol.com.br/esporte/colunas/olhar-olimpico/2023/10/06/final-feminina-individual-geral.htm"
      ],
      "metadata": {
        "id": "WjsMSRF2inTZ"
      }
    },
    {
      "cell_type": "code",
      "source": [
        "texto2 = \"\"\"\n",
        "Simone Biles demonstrou hoje de forma definitiva que o posto de melhor ginasta do mundo continua sendo dela, faturando o hexacampeonato mundial do individual geral. Mas Rebeca Andrade também deu o seu recado. Na disputa contra todas as outras, a brasileira foi quem se deu melhor, conquistando a prata.\n",
        "\"\"\"\n",
        "\n",
        "doc2 = nlp(texto2)\n",
        "\n",
        "doc.similarity( doc2 ) #calcula similaridade entre doc e doc2"
      ],
      "metadata": {
        "id": "4cqs02EgioRu",
        "colab": {
          "base_uri": "https://localhost:8080/"
        },
        "outputId": "33ee22d2-be8e-46fa-db88-416ccb347a48"
      },
      "execution_count": null,
      "outputs": [
        {
          "output_type": "execute_result",
          "data": {
            "text/plain": [
              "0.853346414397314"
            ]
          },
          "metadata": {},
          "execution_count": 15
        }
      ]
    },
    {
      "cell_type": "markdown",
      "source": [
        "# Gerando uma lista de tokens (tokenização)\n",
        "\n",
        "A classe Doc pode ser vista como um conteiner de tokens Podemos consultar a documentação da classe tpken para obter uma lista de atributos e métodos:\n",
        "\n",
        "https://spacy.io/api/token"
      ],
      "metadata": {
        "id": "ATZmii_I2IFh"
      }
    },
    {
      "cell_type": "code",
      "source": [
        "for t in doc:  #t percorre todos os tokens\n",
        "  print(t)"
      ],
      "metadata": {
        "colab": {
          "base_uri": "https://localhost:8080/"
        },
        "id": "Z36DTAyv2i0d",
        "outputId": "2e72141e-c7af-411b-ddbd-80da3fdfd815"
      },
      "execution_count": null,
      "outputs": [
        {
          "output_type": "stream",
          "name": "stdout",
          "text": [
            "\n",
            "\n",
            "Simone\n",
            "Biles\n",
            "e\n",
            "Rebeca\n",
            "Andrade\n",
            "ficaram\n",
            "lado\n",
            "a\n",
            "lado\n",
            "para\n",
            "receber\n",
            "suas\n",
            "medalhas\n",
            ".\n",
            "Pela\n",
            "primeira\n",
            "vez\n",
            "as\n",
            "duas\n",
            "estrelas\n",
            "da\n",
            "ginástica\n",
            "artística\n",
            "dividiram\n",
            "um\n",
            "pódio\n",
            "em\n",
            "uma\n",
            "prova\n",
            "individual\n",
            ".\n",
            "Nesta\n",
            "sexta-feira\n",
            ",\n",
            "a\n",
            "americana\n",
            "retomou\n",
            "o\n",
            "posto\n",
            "de\n",
            "número\n",
            "1\n",
            "do\n",
            "mundo\n",
            "e\n",
            "conquistou\n",
            "o\n",
            "hexa\n",
            "do\n",
            "individual\n",
            "geral\n",
            "no\n",
            "Mundial\n",
            "da\n",
            "Antuérpia\n",
            ".\n",
            "Campeã\n",
            "no\n",
            "ano\n",
            "passado\n",
            ",\n",
            "a\n",
            "brasileira\n",
            "também\n",
            "brilhou\n",
            "com\n",
            "a\n",
            "prata\n",
            ".\n",
            "A\n",
            "americana\n",
            "Shilese\n",
            "Jones\n",
            "completou\n",
            "o\n",
            "primeiro\n",
            "pódio\n",
            "100\n",
            "%\n",
            "de\n",
            "mulheres\n",
            "pretas\n",
            "da\n",
            "prova\n",
            "mais\n",
            "nobre\n",
            "de\n",
            "um\n",
            "Mundial\n",
            ".\n",
            "Flávia\n",
            "Saraiva\n",
            "acabou\n",
            "na\n",
            "15ª\n",
            "posição\n",
            "depois\n",
            "de\n",
            "ter\n",
            "sofrido\n",
            "duas\n",
            "quedas\n",
            ".\n",
            "\n",
            "\n"
          ]
        }
      ]
    },
    {
      "cell_type": "code",
      "source": [
        "#gera uma lista com tokens\n",
        "tokens = list( doc )\n",
        "print(tokens)"
      ],
      "metadata": {
        "colab": {
          "base_uri": "https://localhost:8080/"
        },
        "id": "40XrF3SZ4Vi2",
        "outputId": "8010daf0-f5e7-44d4-fddf-d825b76b4457"
      },
      "execution_count": null,
      "outputs": [
        {
          "output_type": "stream",
          "name": "stdout",
          "text": [
            "[\n",
            ", Simone, Biles, e, Rebeca, Andrade, ficaram, lado, a, lado, para, receber, suas, medalhas, ., Pela, primeira, vez, as, duas, estrelas, da, ginástica, artística, dividiram, um, pódio, em, uma, prova, individual, ., Nesta, sexta-feira, ,, a, americana, retomou, o, posto, de, número, 1, do, mundo, e, conquistou, o, hexa, do, individual, geral, no, Mundial, da, Antuérpia, ., Campeã, no, ano, passado, ,, a, brasileira, também, brilhou, com, a, prata, ., A, americana, Shilese, Jones, completou, o, primeiro, pódio, 100, %, de, mulheres, pretas, da, prova, mais, nobre, de, um, Mundial, ., Flávia, Saraiva, acabou, na, 15ª, posição, depois, de, ter, sofrido, duas, quedas, ., \n",
            "]\n"
          ]
        }
      ]
    },
    {
      "cell_type": "code",
      "source": [
        "#o atributo orth_ apresenta a string do token\n",
        "tokens[4].orth_"
      ],
      "metadata": {
        "colab": {
          "base_uri": "https://localhost:8080/",
          "height": 35
        },
        "id": "Gtn3FMBQ41mq",
        "outputId": "4c7ea45a-d82e-4679-d756-cf6d4f6fa743"
      },
      "execution_count": null,
      "outputs": [
        {
          "output_type": "execute_result",
          "data": {
            "text/plain": [
              "'Rebeca'"
            ],
            "application/vnd.google.colaboratory.intrinsic+json": {
              "type": "string"
            }
          },
          "metadata": {},
          "execution_count": 19
        }
      ]
    },
    {
      "cell_type": "code",
      "source": [
        "#O atributo is_punct retorna True se o token é uma pontuação\n",
        "tokens[4].is_punct"
      ],
      "metadata": {
        "colab": {
          "base_uri": "https://localhost:8080/"
        },
        "id": "RQYijTGk5DHk",
        "outputId": "40f1c8fa-06b5-4bee-aa51-d31af8612b69"
      },
      "execution_count": null,
      "outputs": [
        {
          "output_type": "execute_result",
          "data": {
            "text/plain": [
              "False"
            ]
          },
          "metadata": {},
          "execution_count": 20
        }
      ]
    },
    {
      "cell_type": "code",
      "source": [
        "#obtendo uma lista de pontuações do cocumento\n",
        "[ t for t in tokens if t.is_punct == True ]"
      ],
      "metadata": {
        "colab": {
          "base_uri": "https://localhost:8080/"
        },
        "id": "Z2SEGzFO5OYf",
        "outputId": "ec2c0bb9-b4c1-4d23-af1b-e335612fc4a0"
      },
      "execution_count": null,
      "outputs": [
        {
          "output_type": "execute_result",
          "data": {
            "text/plain": [
              "[., ., ,, ., ,, ., %, ., .]"
            ]
          },
          "metadata": {},
          "execution_count": 21
        }
      ]
    },
    {
      "cell_type": "code",
      "source": [
        "#obtendo os numeros presentes no texto com o atributo like_num, que retorna True se o token representa um numero\n",
        "[ t for t in tokens if t.like_num == True ]"
      ],
      "metadata": {
        "colab": {
          "base_uri": "https://localhost:8080/"
        },
        "id": "_mP-iMEU5kUJ",
        "outputId": "ca2651b5-c2a8-4335-a51a-9bf2819342fd"
      },
      "execution_count": null,
      "outputs": [
        {
          "output_type": "execute_result",
          "data": {
            "text/plain": [
              "[um, 1, primeiro, 100, um, 15ª]"
            ]
          },
          "metadata": {},
          "execution_count": 22
        }
      ]
    },
    {
      "cell_type": "code",
      "source": [
        "#o atributo morph apresenta análise morfológica do token\n",
        "[ (t, t.morph) for t in tokens ]"
      ],
      "metadata": {
        "colab": {
          "base_uri": "https://localhost:8080/"
        },
        "id": "fZnX9ywB6EDT",
        "outputId": "864dd83f-75a8-40ad-de55-b65407a51f16"
      },
      "execution_count": null,
      "outputs": [
        {
          "output_type": "execute_result",
          "data": {
            "text/plain": [
              "[(, ),\n",
              " (Simone, Gender=Masc|Number=Sing),\n",
              " (Biles, Number=Sing),\n",
              " (e, ),\n",
              " (Rebeca, Gender=Fem|Number=Sing),\n",
              " (Andrade, Number=Sing),\n",
              " (ficaram, Mood=Ind|Number=Plur|Person=3|VerbForm=Fin),\n",
              " (lado, Gender=Masc|Number=Sing),\n",
              " (a, ),\n",
              " (lado, Gender=Masc|Number=Sing),\n",
              " (para, ),\n",
              " (receber, VerbForm=Inf),\n",
              " (suas, Gender=Fem|Number=Plur|PronType=Prs),\n",
              " (medalhas, Gender=Fem|Number=Plur),\n",
              " (., ),\n",
              " (Pela, Gender=Masc|Number=Sing),\n",
              " (primeira, ),\n",
              " (vez, Gender=Masc|Number=Sing),\n",
              " (as, Definite=Def|Gender=Fem|Number=Plur|PronType=Art),\n",
              " (duas, NumType=Card),\n",
              " (estrelas, Gender=Fem|Number=Plur),\n",
              " (da, Definite=Def|Gender=Fem|Number=Sing|PronType=Art),\n",
              " (ginástica, Gender=Fem|Number=Sing),\n",
              " (artística, Gender=Fem|Number=Sing),\n",
              " (dividiram, Mood=Ind|Number=Plur|Person=3|Tense=Past|VerbForm=Fin),\n",
              " (um, Definite=Ind|Gender=Masc|Number=Sing|PronType=Art),\n",
              " (pódio, Gender=Masc|Number=Sing),\n",
              " (em, ),\n",
              " (uma, Definite=Ind|Gender=Fem|Number=Sing|PronType=Art),\n",
              " (prova, Gender=Fem|Number=Sing),\n",
              " (individual, Gender=Fem|Number=Sing),\n",
              " (., ),\n",
              " (Nesta, Gender=Fem|Number=Sing|PronType=Dem),\n",
              " (sexta-feira, Gender=Fem|Number=Sing),\n",
              " (,, ),\n",
              " (a, Definite=Def|Gender=Fem|Number=Sing|PronType=Art),\n",
              " (americana, Gender=Fem|Number=Sing),\n",
              " (retomou, Mood=Ind|Number=Sing|Person=3|Tense=Past|VerbForm=Fin),\n",
              " (o, Definite=Def|Gender=Masc|Number=Sing|PronType=Art),\n",
              " (posto, Gender=Masc|Number=Sing),\n",
              " (de, ),\n",
              " (número, Gender=Masc|Number=Sing),\n",
              " (1, NumType=Card),\n",
              " (do, Definite=Def|Gender=Masc|Number=Sing|PronType=Art),\n",
              " (mundo, Gender=Masc|Number=Sing),\n",
              " (e, ),\n",
              " (conquistou, Mood=Ind|Number=Sing|Person=3|Tense=Past|VerbForm=Fin),\n",
              " (o, Definite=Def|Gender=Masc|Number=Sing|PronType=Art),\n",
              " (hexa, Gender=Masc|Number=Sing),\n",
              " (do, Definite=Def|Gender=Masc|Number=Sing|PronType=Art),\n",
              " (individual, Gender=Masc|Number=Sing),\n",
              " (geral, Gender=Masc|Number=Sing),\n",
              " (no, Definite=Def|Gender=Masc|Number=Sing|PronType=Art),\n",
              " (Mundial, Gender=Masc|Number=Sing),\n",
              " (da, Definite=Def|Gender=Fem|Number=Sing|PronType=Art),\n",
              " (Antuérpia, Number=Sing),\n",
              " (., ),\n",
              " (Campeã, Gender=Fem|Number=Sing),\n",
              " (no, Definite=Def|Gender=Masc|Number=Sing|PronType=Art),\n",
              " (ano, Gender=Masc|Number=Sing),\n",
              " (passado, Gender=Masc|Number=Sing),\n",
              " (,, ),\n",
              " (a, Definite=Def|Gender=Fem|Number=Sing|PronType=Art),\n",
              " (brasileira, Gender=Fem|Number=Sing),\n",
              " (também, ),\n",
              " (brilhou, Mood=Ind|Number=Sing|Person=3|Tense=Past|VerbForm=Fin),\n",
              " (com, ),\n",
              " (a, Definite=Def|Gender=Fem|Number=Sing|PronType=Art),\n",
              " (prata, Gender=Fem|Number=Sing),\n",
              " (., ),\n",
              " (A, Definite=Def|Gender=Fem|Number=Sing|PronType=Art),\n",
              " (americana, Gender=Fem|Number=Sing),\n",
              " (Shilese, Gender=Fem|Number=Sing),\n",
              " (Jones, Number=Sing),\n",
              " (completou, Mood=Ind|Number=Sing|Person=3|Tense=Past|VerbForm=Fin),\n",
              " (o, Definite=Def|Gender=Masc|Number=Sing|PronType=Art),\n",
              " (primeiro, Gender=Masc|NumType=Ord|Number=Sing),\n",
              " (pódio, Gender=Masc|Number=Sing),\n",
              " (100, NumType=Card),\n",
              " (%, ),\n",
              " (de, ),\n",
              " (mulheres, Gender=Fem|Number=Plur),\n",
              " (pretas, Gender=Fem|Number=Plur),\n",
              " (da, Definite=Def|Gender=Fem|Number=Sing|PronType=Art),\n",
              " (prova, Gender=Fem|Number=Sing),\n",
              " (mais, ),\n",
              " (nobre, Gender=Masc|Number=Sing),\n",
              " (de, ),\n",
              " (um, Definite=Ind|Gender=Masc|Number=Sing|PronType=Art),\n",
              " (Mundial, Gender=Masc|Number=Sing),\n",
              " (., ),\n",
              " (Flávia, Gender=Fem|Number=Sing),\n",
              " (Saraiva, Number=Sing),\n",
              " (acabou, Mood=Ind|Number=Sing|Person=3|Tense=Past|VerbForm=Fin),\n",
              " (na, Definite=Def|Gender=Fem|Number=Sing|PronType=Art),\n",
              " (15ª, Gender=Fem|NumType=Ord|Number=Sing),\n",
              " (posição, Gender=Fem|Number=Sing),\n",
              " (depois, ),\n",
              " (de, ),\n",
              " (ter, VerbForm=Inf),\n",
              " (sofrido, VerbForm=Part),\n",
              " (duas, NumType=Card),\n",
              " (quedas, Gender=Fem|Number=Plur),\n",
              " (., ),\n",
              " (, )]"
            ]
          },
          "metadata": {},
          "execution_count": 23
        }
      ]
    },
    {
      "cell_type": "code",
      "source": [
        "print( \"token: \", tokens[6], \" analise morfologica: \", tokens[6].morph  )"
      ],
      "metadata": {
        "colab": {
          "base_uri": "https://localhost:8080/"
        },
        "id": "ITESgfui7aP4",
        "outputId": "43d1f96f-8587-49ba-b7cc-9f6f7ce46c78"
      },
      "execution_count": null,
      "outputs": [
        {
          "output_type": "stream",
          "name": "stdout",
          "text": [
            "token:  ficaram  analise morfologica:  Mood=Ind|Number=Plur|Person=3|VerbForm=Fin\n"
          ]
        }
      ]
    },
    {
      "cell_type": "code",
      "source": [
        "#podemos acessar os atributos da anáise morfológica\n",
        "tokens[6].morph.get('Person')"
      ],
      "metadata": {
        "colab": {
          "base_uri": "https://localhost:8080/"
        },
        "id": "RKpxW09073Ys",
        "outputId": "dbf3b656-120a-4c2f-cecf-d7af513e96c3"
      },
      "execution_count": null,
      "outputs": [
        {
          "output_type": "execute_result",
          "data": {
            "text/plain": [
              "['3']"
            ]
          },
          "metadata": {},
          "execution_count": 25
        }
      ]
    },
    {
      "cell_type": "code",
      "source": [
        "#o atributo pos apresenta uma etiqueta morfológica\n",
        "tokens[6].pos_"
      ],
      "metadata": {
        "colab": {
          "base_uri": "https://localhost:8080/",
          "height": 35
        },
        "id": "qLcoxgX38UqM",
        "outputId": "7f4c894c-2ee5-4e92-d18f-2387877c9010"
      },
      "execution_count": null,
      "outputs": [
        {
          "output_type": "execute_result",
          "data": {
            "text/plain": [
              "'VERB'"
            ],
            "application/vnd.google.colaboratory.intrinsic+json": {
              "type": "string"
            }
          },
          "metadata": {},
          "execution_count": 26
        }
      ]
    },
    {
      "cell_type": "code",
      "source": [
        "[ (t, t.pos_) for t in tokens ]"
      ],
      "metadata": {
        "colab": {
          "base_uri": "https://localhost:8080/"
        },
        "id": "Ul2tcu1Q8xys",
        "outputId": "e6e0d8b3-fba9-4cb0-8ffd-2f8bca09fa4c"
      },
      "execution_count": null,
      "outputs": [
        {
          "output_type": "execute_result",
          "data": {
            "text/plain": [
              "[(, 'SPACE'),\n",
              " (Simone, 'PROPN'),\n",
              " (Biles, 'PROPN'),\n",
              " (e, 'CCONJ'),\n",
              " (Rebeca, 'PROPN'),\n",
              " (Andrade, 'PROPN'),\n",
              " (ficaram, 'VERB'),\n",
              " (lado, 'NOUN'),\n",
              " (a, 'ADP'),\n",
              " (lado, 'NOUN'),\n",
              " (para, 'SCONJ'),\n",
              " (receber, 'VERB'),\n",
              " (suas, 'DET'),\n",
              " (medalhas, 'NOUN'),\n",
              " (., 'PUNCT'),\n",
              " (Pela, 'NOUN'),\n",
              " (primeira, 'ADP'),\n",
              " (vez, 'NOUN'),\n",
              " (as, 'DET'),\n",
              " (duas, 'NUM'),\n",
              " (estrelas, 'NOUN'),\n",
              " (da, 'ADP'),\n",
              " (ginástica, 'NOUN'),\n",
              " (artística, 'ADJ'),\n",
              " (dividiram, 'VERB'),\n",
              " (um, 'DET'),\n",
              " (pódio, 'NOUN'),\n",
              " (em, 'ADP'),\n",
              " (uma, 'DET'),\n",
              " (prova, 'NOUN'),\n",
              " (individual, 'ADJ'),\n",
              " (., 'PUNCT'),\n",
              " (Nesta, 'ADP'),\n",
              " (sexta-feira, 'NOUN'),\n",
              " (,, 'PUNCT'),\n",
              " (a, 'DET'),\n",
              " (americana, 'NOUN'),\n",
              " (retomou, 'VERB'),\n",
              " (o, 'DET'),\n",
              " (posto, 'NOUN'),\n",
              " (de, 'ADP'),\n",
              " (número, 'NOUN'),\n",
              " (1, 'NUM'),\n",
              " (do, 'ADP'),\n",
              " (mundo, 'NOUN'),\n",
              " (e, 'CCONJ'),\n",
              " (conquistou, 'VERB'),\n",
              " (o, 'DET'),\n",
              " (hexa, 'NOUN'),\n",
              " (do, 'ADP'),\n",
              " (individual, 'NOUN'),\n",
              " (geral, 'ADJ'),\n",
              " (no, 'ADP'),\n",
              " (Mundial, 'PROPN'),\n",
              " (da, 'ADP'),\n",
              " (Antuérpia, 'PROPN'),\n",
              " (., 'PUNCT'),\n",
              " (Campeã, 'NOUN'),\n",
              " (no, 'ADP'),\n",
              " (ano, 'NOUN'),\n",
              " (passado, 'ADJ'),\n",
              " (,, 'PUNCT'),\n",
              " (a, 'DET'),\n",
              " (brasileira, 'NOUN'),\n",
              " (também, 'ADV'),\n",
              " (brilhou, 'VERB'),\n",
              " (com, 'ADP'),\n",
              " (a, 'DET'),\n",
              " (prata, 'NOUN'),\n",
              " (., 'PUNCT'),\n",
              " (A, 'DET'),\n",
              " (americana, 'NOUN'),\n",
              " (Shilese, 'PROPN'),\n",
              " (Jones, 'PROPN'),\n",
              " (completou, 'VERB'),\n",
              " (o, 'DET'),\n",
              " (primeiro, 'ADJ'),\n",
              " (pódio, 'NOUN'),\n",
              " (100, 'NUM'),\n",
              " (%, 'SYM'),\n",
              " (de, 'ADP'),\n",
              " (mulheres, 'NOUN'),\n",
              " (pretas, 'ADJ'),\n",
              " (da, 'ADP'),\n",
              " (prova, 'NOUN'),\n",
              " (mais, 'ADV'),\n",
              " (nobre, 'ADJ'),\n",
              " (de, 'ADP'),\n",
              " (um, 'DET'),\n",
              " (Mundial, 'PROPN'),\n",
              " (., 'PUNCT'),\n",
              " (Flávia, 'PROPN'),\n",
              " (Saraiva, 'PROPN'),\n",
              " (acabou, 'VERB'),\n",
              " (na, 'ADP'),\n",
              " (15ª, 'ADJ'),\n",
              " (posição, 'NOUN'),\n",
              " (depois, 'ADV'),\n",
              " (de, 'ADP'),\n",
              " (ter, 'AUX'),\n",
              " (sofrido, 'VERB'),\n",
              " (duas, 'NUM'),\n",
              " (quedas, 'NOUN'),\n",
              " (., 'PUNCT'),\n",
              " (, 'SPACE')]"
            ]
          },
          "metadata": {},
          "execution_count": 27
        }
      ]
    },
    {
      "cell_type": "code",
      "source": [
        "spacy.explain('PROPN')"
      ],
      "metadata": {
        "colab": {
          "base_uri": "https://localhost:8080/",
          "height": 35
        },
        "id": "d2NGu36Z9CKS",
        "outputId": "74441015-29f5-44b8-c797-693fbfa9685b"
      },
      "execution_count": null,
      "outputs": [
        {
          "output_type": "execute_result",
          "data": {
            "text/plain": [
              "'proper noun'"
            ],
            "application/vnd.google.colaboratory.intrinsic+json": {
              "type": "string"
            }
          },
          "metadata": {},
          "execution_count": 28
        }
      ]
    },
    {
      "cell_type": "code",
      "source": [
        "#o atributo is_stop apresenta o valor True se o token é uma stopword\n",
        "[ t for t in tokens if t.is_stop == False ]"
      ],
      "metadata": {
        "colab": {
          "base_uri": "https://localhost:8080/"
        },
        "id": "KUhk-_v59LQ3",
        "outputId": "5caa6564-80ed-4ccc-a9a3-93bd4c391577"
      },
      "execution_count": null,
      "outputs": [
        {
          "output_type": "execute_result",
          "data": {
            "text/plain": [
              "[,\n",
              " Simone,\n",
              " Biles,\n",
              " Rebeca,\n",
              " Andrade,\n",
              " ficaram,\n",
              " receber,\n",
              " medalhas,\n",
              " .,\n",
              " estrelas,\n",
              " ginástica,\n",
              " artística,\n",
              " dividiram,\n",
              " pódio,\n",
              " prova,\n",
              " individual,\n",
              " .,\n",
              " sexta-feira,\n",
              " ,,\n",
              " americana,\n",
              " retomou,\n",
              " posto,\n",
              " 1,\n",
              " mundo,\n",
              " conquistou,\n",
              " hexa,\n",
              " individual,\n",
              " Mundial,\n",
              " Antuérpia,\n",
              " .,\n",
              " Campeã,\n",
              " ano,\n",
              " passado,\n",
              " ,,\n",
              " brasileira,\n",
              " brilhou,\n",
              " prata,\n",
              " .,\n",
              " americana,\n",
              " Shilese,\n",
              " Jones,\n",
              " completou,\n",
              " pódio,\n",
              " 100,\n",
              " %,\n",
              " mulheres,\n",
              " pretas,\n",
              " prova,\n",
              " nobre,\n",
              " Mundial,\n",
              " .,\n",
              " Flávia,\n",
              " Saraiva,\n",
              " acabou,\n",
              " 15ª,\n",
              " sofrido,\n",
              " quedas,\n",
              " .,\n",
              " ]"
            ]
          },
          "metadata": {},
          "execution_count": 30
        }
      ]
    },
    {
      "cell_type": "code",
      "source": [
        "# um recurso interessante é a lematização, que gera o lema dos termos.\n",
        "# Assim, variações de palavras professora, professores, professoras são levadas ao lema professor\n",
        "[t.lemma_ for t in tokens]"
      ],
      "metadata": {
        "colab": {
          "base_uri": "https://localhost:8080/"
        },
        "id": "7GppB50F9rgs",
        "outputId": "970267c0-8309-461e-92aa-9a9c443ac624"
      },
      "execution_count": null,
      "outputs": [
        {
          "output_type": "execute_result",
          "data": {
            "text/plain": [
              "['\\n',\n",
              " 'Simone',\n",
              " 'Biles',\n",
              " 'e',\n",
              " 'Rebeca',\n",
              " 'Andrade',\n",
              " 'ficar',\n",
              " 'lado',\n",
              " 'a',\n",
              " 'lado',\n",
              " 'para',\n",
              " 'receber',\n",
              " 'seu',\n",
              " 'medalha',\n",
              " '.',\n",
              " 'pela',\n",
              " 'primeira',\n",
              " 'vez',\n",
              " 'o',\n",
              " 'dois',\n",
              " 'estrela',\n",
              " 'de o',\n",
              " 'ginástica',\n",
              " 'artístico',\n",
              " 'dividir',\n",
              " 'um',\n",
              " 'pódio',\n",
              " 'em',\n",
              " 'um',\n",
              " 'prova',\n",
              " 'individual',\n",
              " '.',\n",
              " 'em este',\n",
              " 'sexta-feira',\n",
              " ',',\n",
              " 'o',\n",
              " 'americana',\n",
              " 'retomar',\n",
              " 'o',\n",
              " 'posto',\n",
              " 'de',\n",
              " 'número',\n",
              " '1',\n",
              " 'de o',\n",
              " 'mundo',\n",
              " 'e',\n",
              " 'conquistar',\n",
              " 'o',\n",
              " 'hexa',\n",
              " 'de o',\n",
              " 'individual',\n",
              " 'geral',\n",
              " 'em o',\n",
              " 'Mundial',\n",
              " 'de o',\n",
              " 'Antuérpia',\n",
              " '.',\n",
              " 'campeã',\n",
              " 'em o',\n",
              " 'ano',\n",
              " 'passado',\n",
              " ',',\n",
              " 'o',\n",
              " 'brasileira',\n",
              " 'também',\n",
              " 'brilhar',\n",
              " 'com',\n",
              " 'o',\n",
              " 'prata',\n",
              " '.',\n",
              " 'o',\n",
              " 'americana',\n",
              " 'Shilese',\n",
              " 'Jones',\n",
              " 'completar',\n",
              " 'o',\n",
              " 'primeiro',\n",
              " 'pódio',\n",
              " '100',\n",
              " '%',\n",
              " 'de',\n",
              " 'mulher',\n",
              " 'preta',\n",
              " 'de o',\n",
              " 'prova',\n",
              " 'mais',\n",
              " 'nobre',\n",
              " 'de',\n",
              " 'um',\n",
              " 'Mundial',\n",
              " '.',\n",
              " 'Flávia',\n",
              " 'Saraiva',\n",
              " 'acabar',\n",
              " 'em o',\n",
              " '15ª',\n",
              " 'posição',\n",
              " 'depois',\n",
              " 'de',\n",
              " 'ter',\n",
              " 'sofrer',\n",
              " 'dois',\n",
              " 'queda',\n",
              " '.',\n",
              " '\\n']"
            ]
          },
          "metadata": {},
          "execution_count": 31
        }
      ]
    },
    {
      "cell_type": "code",
      "source": [
        "#podemo calcular similaridade entre termos\n",
        "termos  = \"carro automóvel caminhão cama\"\n",
        "\n",
        "doc_ = nlp(termos)\n",
        "\n",
        "tokens_ = list(doc_)\n",
        "\n",
        "print( tokens_[0].similarity( tokens_[1] ) )\n",
        "print( tokens_[0].similarity( tokens_[2] ) )\n",
        "print( tokens_[0].similarity( tokens_[3] ) )"
      ],
      "metadata": {
        "colab": {
          "base_uri": "https://localhost:8080/"
        },
        "id": "bdJgv8mG-7Xc",
        "outputId": "53753ae5-c140-4a4a-c5e7-7215d9f0afb7"
      },
      "execution_count": null,
      "outputs": [
        {
          "output_type": "stream",
          "name": "stdout",
          "text": [
            "0.768669605255127\n",
            "0.7389761209487915\n",
            "0.29732587933540344\n"
          ]
        }
      ]
    },
    {
      "cell_type": "markdown",
      "source": [
        "Análise sintática das dependencias"
      ],
      "metadata": {
        "id": "zvJf66Gl_p2P"
      }
    },
    {
      "cell_type": "code",
      "source": [
        "texto3 = \"O rato roeu a roupa do rei\"\n",
        "\n",
        "doc3 = nlp(texto3)\n",
        "\n",
        "sintaxe = [ (t, t.dep_ ) for t in doc3 ]\n",
        "print(sintaxe)"
      ],
      "metadata": {
        "colab": {
          "base_uri": "https://localhost:8080/"
        },
        "id": "nZO2KqIT_s9T",
        "outputId": "43079038-dd67-482f-c865-8df661c3e8bd"
      },
      "execution_count": null,
      "outputs": [
        {
          "output_type": "stream",
          "name": "stdout",
          "text": [
            "[(O, 'det'), (rato, 'nsubj'), (roeu, 'ROOT'), (a, 'det'), (roupa, 'obj'), (do, 'case'), (rei, 'nmod')]\n"
          ]
        }
      ]
    },
    {
      "cell_type": "code",
      "source": [
        "visualizador = spacy.displacy.rerrrrrrrrrrrrrrrrrrrrrrrrrrrrrrrrrrrrrrrrrrrrrrrrrrrrrrrrrrrrrrrrrrrrrrrrrrrrrrrrrrrrrrrrrrrrrrrrrrrrrrrrrrrrrrrrrrrrrrrrr55555555555555555555555555555555555\n",
        "]\n",
        "]]\n",
        "\n",
        "\n",
        "\n",
        "\n",
        "\n",
        "\n",
        "\n",
        "\n",
        "\n",
        "\n",
        "\n",
        "\n",
        "\n",
        "\n",
        "\n",
        "\n",
        "\n",
        "\n",
        "\n",
        "\n",
        "\n",
        "\n",
        "\n",
        "\n",
        "\n",
        "\n",
        "\n",
        "\n",
        "\n",
        "]\n",
        "\n",
        "\n",
        "\n",
        "\n",
        "\n",
        "\n",
        "\n",
        "\n",
        "\n",
        "\n",
        "\n",
        "\n",
        "\n",
        "\n",
        "\n",
        "\n",
        "\n",
        "\n",
        "\n",
        "\n",
        "\n",
        "\n",
        "\n",
        "\n",
        "\n",
        "\n",
        "\n",
        "\n",
        "\n",
        "\n",
        "\n",
        "\n",
        "\n",
        "\n",
        "\n",
        "\n",
        "\n",
        "\n",
        "\n",
        "\n",
        "\n",
        "\n",
        "\n",
        "\n",
        "\n",
        "\n",
        "\n",
        "\n",
        "\n",
        "\n",
        "\n",
        "\n",
        "\n",
        "\n",
        "\n",
        "\n",
        "\n",
        "\n",
        "\n",
        "\n",
        "\n",
        "\n",
        "\n",
        "\n",
        "\n",
        "\n",
        "\n",
        "\n",
        "\n",
        "\n",
        "\n",
        "\n",
        "\n",
        "\n",
        "\n",
        "\n",
        "\n",
        "\n",
        "\n",
        "\n",
        "\n",
        "\n",
        "\n",
        "\n",
        "\n",
        "\n",
        "\n",
        "\n",
        "\n",
        "\n",
        "\n",
        "\n",
        "\n",
        "\n",
        "\n",
        "\n",
        "\n",
        "\n",
        "\n",
        "\n",
        "\n",
        "\n",
        "\n",
        "\n",
        "\n",
        "\n",
        "\n",
        "\n",
        "\n",
        "\n",
        "\n",
        "\n",
        "\n",
        "\n",
        "\n",
        "\n",
        "\n",
        "\n",
        "\n",
        "\n",
        "\n",
        "\n",
        "\n",
        "\n",
        "\n",
        "\n",
        "\n",
        "\n",
        "\n",
        "\n",
        "\n",
        "\n",
        "\n",
        "\n",
        "\n",
        "\n",
        "\n",
        "\n",
        "\n",
        "\n",
        "\n",
        "\n",
        "\n",
        "\n",
        "\n",
        "\n",
        "\n",
        "\n",
        "\n",
        "\n",
        "\n",
        "\n",
        "\n",
        "\n",
        "\n",
        "\n",
        "\n",
        "\n",
        "\n",
        "\n",
        "\n",
        "\n",
        "\n",
        "\n",
        "\n",
        "\n",
        "\n",
        "\n",
        "\n",
        "\n",
        "\n",
        "\n",
        "\n",
        "\n",
        "\n",
        "\n",
        "\n",
        "\n",
        "\n",
        "\n",
        "\n",
        "\n",
        "\n",
        "\n",
        "\n",
        "\n",
        "]]]]]]\n",
        "]]]\n",
        "\n",
        "\n",
        "]\n",
        "]\n",
        "]\n",
        "\n",
        "\n",
        "\n",
        "]\n",
        "]\n",
        "]nder(doc3, style='dep', jupyter=True )"
      ],
      "metadata": {
        "colab": {
          "base_uri": "https://localhost:8080/",
          "height": 333
        },
        "id": "62buOrFhAOpN",
        "outputId": "3d30b401-1a18-4fa3-9fbc-c617bce49f5a"
      },
      "execution_count": null,
      "outputs": [
        {
          "output_type": "display_data",
          "data": {
            "text/plain": [
              "<IPython.core.display.HTML object>"
            ],
            "text/html": [
              "<span class=\"tex2jax_ignore\"><svg xmlns=\"http://www.w3.org/2000/svg\" xmlns:xlink=\"http://www.w3.org/1999/xlink\" xml:lang=\"pt\" id=\"f719aabd89b44f1fb30b5a02d33e61b4-0\" class=\"displacy\" width=\"1275\" height=\"312.0\" direction=\"ltr\" style=\"max-width: none; height: 312.0px; color: #000000; background: #ffffff; font-family: Arial; direction: ltr\">\n",
              "<text class=\"displacy-token\" fill=\"currentColor\" text-anchor=\"middle\" y=\"222.0\">\n",
              "    <tspan class=\"displacy-word\" fill=\"currentColor\" x=\"50\">O</tspan>\n",
              "    <tspan class=\"displacy-tag\" dy=\"2em\" fill=\"currentColor\" x=\"50\">DET</tspan>\n",
              "</text>\n",
              "\n",
              "<text class=\"displacy-token\" fill=\"currentColor\" text-anchor=\"middle\" y=\"222.0\">\n",
              "    <tspan class=\"displacy-word\" fill=\"currentColor\" x=\"225\">rato</tspan>\n",
              "    <tspan class=\"displacy-tag\" dy=\"2em\" fill=\"currentColor\" x=\"225\">NOUN</tspan>\n",
              "</text>\n",
              "\n",
              "<text class=\"displacy-token\" fill=\"currentColor\" text-anchor=\"middle\" y=\"222.0\">\n",
              "    <tspan class=\"displacy-word\" fill=\"currentColor\" x=\"400\">roeu</tspan>\n",
              "    <tspan class=\"displacy-tag\" dy=\"2em\" fill=\"currentColor\" x=\"400\">VERB</tspan>\n",
              "</text>\n",
              "\n",
              "<text class=\"displacy-token\" fill=\"currentColor\" text-anchor=\"middle\" y=\"222.0\">\n",
              "    <tspan class=\"displacy-word\" fill=\"currentColor\" x=\"575\">a</tspan>\n",
              "    <tspan class=\"displacy-tag\" dy=\"2em\" fill=\"currentColor\" x=\"575\">DET</tspan>\n",
              "</text>\n",
              "\n",
              "<text class=\"displacy-token\" fill=\"currentColor\" text-anchor=\"middle\" y=\"222.0\">\n",
              "    <tspan class=\"displacy-word\" fill=\"currentColor\" x=\"750\">roupa</tspan>\n",
              "    <tspan class=\"displacy-tag\" dy=\"2em\" fill=\"currentColor\" x=\"750\">NOUN</tspan>\n",
              "</text>\n",
              "\n",
              "<text class=\"displacy-token\" fill=\"currentColor\" text-anchor=\"middle\" y=\"222.0\">\n",
              "    <tspan class=\"displacy-word\" fill=\"currentColor\" x=\"925\">do</tspan>\n",
              "    <tspan class=\"displacy-tag\" dy=\"2em\" fill=\"currentColor\" x=\"925\">ADP</tspan>\n",
              "</text>\n",
              "\n",
              "<text class=\"displacy-token\" fill=\"currentColor\" text-anchor=\"middle\" y=\"222.0\">\n",
              "    <tspan class=\"displacy-word\" fill=\"currentColor\" x=\"1100\">rei</tspan>\n",
              "    <tspan class=\"displacy-tag\" dy=\"2em\" fill=\"currentColor\" x=\"1100\">NOUN</tspan>\n",
              "</text>\n",
              "\n",
              "<g class=\"displacy-arrow\">\n",
              "    <path class=\"displacy-arc\" id=\"arrow-f719aabd89b44f1fb30b5a02d33e61b4-0-0\" stroke-width=\"2px\" d=\"M70,177.0 C70,89.5 220.0,89.5 220.0,177.0\" fill=\"none\" stroke=\"currentColor\"/>\n",
              "    <text dy=\"1.25em\" style=\"font-size: 0.8em; letter-spacing: 1px\">\n",
              "        <textPath xlink:href=\"#arrow-f719aabd89b44f1fb30b5a02d33e61b4-0-0\" class=\"displacy-label\" startOffset=\"50%\" side=\"left\" fill=\"currentColor\" text-anchor=\"middle\">det</textPath>\n",
              "    </text>\n",
              "    <path class=\"displacy-arrowhead\" d=\"M70,179.0 L62,167.0 78,167.0\" fill=\"currentColor\"/>\n",
              "</g>\n",
              "\n",
              "<g class=\"displacy-arrow\">\n",
              "    <path class=\"displacy-arc\" id=\"arrow-f719aabd89b44f1fb30b5a02d33e61b4-0-1\" stroke-width=\"2px\" d=\"M245,177.0 C245,89.5 395.0,89.5 395.0,177.0\" fill=\"none\" stroke=\"currentColor\"/>\n",
              "    <text dy=\"1.25em\" style=\"font-size: 0.8em; letter-spacing: 1px\">\n",
              "        <textPath xlink:href=\"#arrow-f719aabd89b44f1fb30b5a02d33e61b4-0-1\" class=\"displacy-label\" startOffset=\"50%\" side=\"left\" fill=\"currentColor\" text-anchor=\"middle\">nsubj</textPath>\n",
              "    </text>\n",
              "    <path class=\"displacy-arrowhead\" d=\"M245,179.0 L237,167.0 253,167.0\" fill=\"currentColor\"/>\n",
              "</g>\n",
              "\n",
              "<g class=\"displacy-arrow\">\n",
              "    <path class=\"displacy-arc\" id=\"arrow-f719aabd89b44f1fb30b5a02d33e61b4-0-2\" stroke-width=\"2px\" d=\"M595,177.0 C595,89.5 745.0,89.5 745.0,177.0\" fill=\"none\" stroke=\"currentColor\"/>\n",
              "    <text dy=\"1.25em\" style=\"font-size: 0.8em; letter-spacing: 1px\">\n",
              "        <textPath xlink:href=\"#arrow-f719aabd89b44f1fb30b5a02d33e61b4-0-2\" class=\"displacy-label\" startOffset=\"50%\" side=\"left\" fill=\"currentColor\" text-anchor=\"middle\">det</textPath>\n",
              "    </text>\n",
              "    <path class=\"displacy-arrowhead\" d=\"M595,179.0 L587,167.0 603,167.0\" fill=\"currentColor\"/>\n",
              "</g>\n",
              "\n",
              "<g class=\"displacy-arrow\">\n",
              "    <path class=\"displacy-arc\" id=\"arrow-f719aabd89b44f1fb30b5a02d33e61b4-0-3\" stroke-width=\"2px\" d=\"M420,177.0 C420,2.0 750.0,2.0 750.0,177.0\" fill=\"none\" stroke=\"currentColor\"/>\n",
              "    <text dy=\"1.25em\" style=\"font-size: 0.8em; letter-spacing: 1px\">\n",
              "        <textPath xlink:href=\"#arrow-f719aabd89b44f1fb30b5a02d33e61b4-0-3\" class=\"displacy-label\" startOffset=\"50%\" side=\"left\" fill=\"currentColor\" text-anchor=\"middle\">obj</textPath>\n",
              "    </text>\n",
              "    <path class=\"displacy-arrowhead\" d=\"M750.0,179.0 L758.0,167.0 742.0,167.0\" fill=\"currentColor\"/>\n",
              "</g>\n",
              "\n",
              "<g class=\"displacy-arrow\">\n",
              "    <path class=\"displacy-arc\" id=\"arrow-f719aabd89b44f1fb30b5a02d33e61b4-0-4\" stroke-width=\"2px\" d=\"M945,177.0 C945,89.5 1095.0,89.5 1095.0,177.0\" fill=\"none\" stroke=\"currentColor\"/>\n",
              "    <text dy=\"1.25em\" style=\"font-size: 0.8em; letter-spacing: 1px\">\n",
              "        <textPath xlink:href=\"#arrow-f719aabd89b44f1fb30b5a02d33e61b4-0-4\" class=\"displacy-label\" startOffset=\"50%\" side=\"left\" fill=\"currentColor\" text-anchor=\"middle\">case</textPath>\n",
              "    </text>\n",
              "    <path class=\"displacy-arrowhead\" d=\"M945,179.0 L937,167.0 953,167.0\" fill=\"currentColor\"/>\n",
              "</g>\n",
              "\n",
              "<g class=\"displacy-arrow\">\n",
              "    <path class=\"displacy-arc\" id=\"arrow-f719aabd89b44f1fb30b5a02d33e61b4-0-5\" stroke-width=\"2px\" d=\"M770,177.0 C770,2.0 1100.0,2.0 1100.0,177.0\" fill=\"none\" stroke=\"currentColor\"/>\n",
              "    <text dy=\"1.25em\" style=\"font-size: 0.8em; letter-spacing: 1px\">\n",
              "        <textPath xlink:href=\"#arrow-f719aabd89b44f1fb30b5a02d33e61b4-0-5\" class=\"displacy-label\" startOffset=\"50%\" side=\"left\" fill=\"currentColor\" text-anchor=\"middle\">nmod</textPath>\n",
              "    </text>\n",
              "    <path class=\"displacy-arrowhead\" d=\"M1100.0,179.0 L1108.0,167.0 1092.0,167.0\" fill=\"currentColor\"/>\n",
              "</g>\n",
              "</svg></span>"
            ]
          },
          "metadata": {}
        }
      ]
    }
  ]
}