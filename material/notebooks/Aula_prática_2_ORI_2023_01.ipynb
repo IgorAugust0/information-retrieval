{
  "cells": [
    {
      "cell_type": "markdown",
      "metadata": {
        "id": "j9kAr-3SktDD"
      },
      "source": [
        "# Segunda aula pŕatica de ORI 2023-01 (08/08/2023)\n",
        "\n",
        "* Entrada e saída\n",
        "* Condicionais if/elif/else"
      ]
    },
    {
      "cell_type": "markdown",
      "metadata": {
        "id": "0s2RJA-1lRej"
      },
      "source": [
        "A função input lê uma entrada do teclado e a retorna como uma string. Pode-se posteriormente converter a string lida para um tipo numérico, se for o caso. A função input pode receber uma string como argumento que será impressa na tela.\n",
        "\n",
        "A função print serve para saida de dados padrão. Ela pode receber qualquer objeto em geral para imprimir (desde que a classe tenha operação de impressão ou conversão para string definida). A função print pode receber um argumento especial denominado *sep* que define a string separadora de objetos, e um argumento especial denominado *end* que define uma string impressa após os demais argumentos. Por padrão, *sep* é definido como um espaço em branco (' ') e *end* é definido como quebra de linha ('\\n')"
      ]
    },
    {
      "cell_type": "code",
      "execution_count": 1,
      "metadata": {
        "colab": {
          "base_uri": "https://localhost:8080/"
        },
        "id": "9-_jnkO2kp9W",
        "outputId": "0c8a8e3b-4b6b-4e6e-bcd5-d6064019e834"
      },
      "outputs": [
        {
          "name": "stdout",
          "output_type": "stream",
          "text": [
            "Ola Igor !\n",
            "Você tem 20 anos\n",
            "Seu nome eIgor!\n",
            "Sua idade e20Tenha um bom dia!\n"
          ]
        }
      ],
      "source": [
        "#primeiro programa em Pyhton\n",
        "#programa vai solicitar o nome do usuário e dizer olá\n",
        "\n",
        "#Le uma entrada do usuário e retorna como string\n",
        "nome = input('Entre com o seu nome: ')  #strings podem ser declaradas com aspas simples ou duplas\n",
        "idade = input(\"Entre com a sua idade: \")\n",
        "idade = int(idade)  #converte idade para int\n",
        "\n",
        "print(\"Ola\", nome, \"!\")\n",
        "print(\"Você tem\", idade, \"anos\")\n",
        "\n",
        "#print por padrão separa os objetos com ' '\n",
        "print(\"Seu nome e\", nome, \"!\", sep=\"\" ) #sep define o separador dos objetos\n",
        "\n",
        "#print por padrão pula linha\n",
        "print(\"Sua idade e\", idade, sep = \"\", end=\"\")\n",
        "\n",
        "print(\"Tenha um bom dia!\")"
      ]
    },
    {
      "cell_type": "markdown",
      "metadata": {
        "id": "L7hdd3T0pStu"
      },
      "source": [
        "#Condicionais\n",
        "\n",
        "As cláusulas if/elif/else permitem definir condicionais em python. Forma geral:\n",
        "\n",
        "```\n",
        "if <teste0> :\n",
        "  <bloco de codigo 0>\n",
        "elif <teste1> :\n",
        "  <bloco de codigo 1>\n",
        "elif <teste2> :\n",
        "  <bloco de codigo 2>\n",
        ".\n",
        ".\n",
        ".\n",
        "else :\n",
        "  <bloco de codigo n>\n",
        "```\n",
        "\n",
        "Note o uso do caracter : após as cláusulas if/elif/else . Em Python,para subordinar um bloco de código a uma cláusula, é necessário identar esse bloco. Diferentemente de linguagens como C e Java, não se pode usar um par de chaves {} para definir um bloco de código."
      ]
    },
    {
      "cell_type": "code",
      "execution_count": 2,
      "metadata": {
        "colab": {
          "base_uri": "https://localhost:8080/"
        },
        "id": "TnDPchy9oujl",
        "outputId": "2244efbf-2bf7-4039-c8c1-f93f7e5d617a"
      },
      "outputs": [
        {
          "name": "stdout",
          "output_type": "stream",
          "text": [
            "Raizes: 4.0 e -1.0\n",
            "Tenha um bom dia!\n"
          ]
        }
      ],
      "source": [
        "#programa que le os coeficientes de uma equação de segundo grau\n",
        "#e calcula as raízes\n",
        "\n",
        "a = float( input(\"Entre com o coeficiente a: \") )\n",
        "b = float( input(\"Entre com o coeficiente b: \") )\n",
        "c = float( input(\"Entre com o coeficiente c: \") )\n",
        "\n",
        "if a == 0:     #testa se a é igual a zero\n",
        "    print(\"Não é uma equação de segundo grau!\")\n",
        "else:\n",
        "\n",
        "    delta = b**2 - 4*a*c\n",
        "    if delta > 0:\n",
        "        raiz1 = (-b + delta**0.5 )/(2*a)\n",
        "        raiz2 = (-b - delta**0.5 )/(2*a)\n",
        "        saida = \"Raizes: \" + str(raiz1) + \" e \" + str(raiz2)\n",
        "        print(saida)\n",
        "    elif delta == 0:\n",
        "        raiz = -b/(2*a)\n",
        "        saida = \"Raizes: %0.2f\"%(raiz)\n",
        "        print(saida)\n",
        "    else:\n",
        "      print(\"Não possui raizes reais\")\n",
        "\n",
        "print(\"Tenha um bom dia!\")"
      ]
    }
  ],
  "metadata": {
    "colab": {
      "provenance": []
    },
    "kernelspec": {
      "display_name": "Python 3",
      "name": "python3"
    },
    "language_info": {
      "codemirror_mode": {
        "name": "ipython",
        "version": 3
      },
      "file_extension": ".py",
      "mimetype": "text/x-python",
      "name": "python",
      "nbconvert_exporter": "python",
      "pygments_lexer": "ipython3",
      "version": "3.11.3"
    }
  },
  "nbformat": 4,
  "nbformat_minor": 0
}
